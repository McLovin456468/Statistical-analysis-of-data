{
 "cells": [
  {
   "cell_type": "markdown",
   "id": "44ce60b3",
   "metadata": {},
   "source": [
    "# Статистический анализ данных популярного сервиса аренды самокатов GoFast"
   ]
  },
  {
   "cell_type": "markdown",
   "id": "a542475f",
   "metadata": {},
   "source": [
    "Цели и задачи работы: \n",
    "- Проанализировать и визуализировать данные и проверить некоторые гипотезы, которые могут помочь бизнесу вырасти.\n",
    "\n",
    "Ход работы:\n",
    "- Первый этап - загрузка данных, первичный анализ, обнаружение неполадок с данными(дубликаты, пропуски).\n",
    "\n",
    "- Второй этап - предобработка данных, устранение(удаление дубликатов) проблем выявленных на первом этапе.\n",
    "\n",
    "- Третий этап - исследовательский анализ данных, описание и визуализация общей информации о пользователях и поездках.\n",
    "\n",
    "- Четвертый этап - объединение данных, объедините данные о пользователях, поездках и подписках в один датафрейм, разбиение данных на две группы(пользователи с подпиской и без), визуализация.\n",
    "\n",
    "- Пятый этап - подсчёт выручки, нахождение суммарного расстояния, количества поездок и суммарное время для каждого пользователя за каждый месяц, помесячной выручки(для пользователей с подпиской и без).\n",
    "\n",
    "- Шестой этап - проверка 4 гипотез."
   ]
  },
  {
   "cell_type": "code",
   "execution_count": 1,
   "id": "72576667",
   "metadata": {},
   "outputs": [],
   "source": [
    "import pandas as pd\n",
    "import numpy as np\n",
    "import matplotlib.pyplot as plt\n",
    "from scipy import stats as st\n",
    "from scipy.stats import binom, poisson"
   ]
  },
  {
   "cell_type": "markdown",
   "id": "c42cbe00",
   "metadata": {},
   "source": [
    "#### Шаг 1. Загрузка данных"
   ]
  },
  {
   "cell_type": "code",
   "execution_count": 2,
   "id": "eff9f206",
   "metadata": {
    "scrolled": false
   },
   "outputs": [
    {
     "data": {
      "text/html": [
       "<div>\n",
       "<style scoped>\n",
       "    .dataframe tbody tr th:only-of-type {\n",
       "        vertical-align: middle;\n",
       "    }\n",
       "\n",
       "    .dataframe tbody tr th {\n",
       "        vertical-align: top;\n",
       "    }\n",
       "\n",
       "    .dataframe thead th {\n",
       "        text-align: right;\n",
       "    }\n",
       "</style>\n",
       "<table border=\"1\" class=\"dataframe\">\n",
       "  <thead>\n",
       "    <tr style=\"text-align: right;\">\n",
       "      <th></th>\n",
       "      <th>user_id</th>\n",
       "      <th>name</th>\n",
       "      <th>age</th>\n",
       "      <th>city</th>\n",
       "      <th>subscription_type</th>\n",
       "    </tr>\n",
       "  </thead>\n",
       "  <tbody>\n",
       "    <tr>\n",
       "      <th>0</th>\n",
       "      <td>1</td>\n",
       "      <td>Кира</td>\n",
       "      <td>22</td>\n",
       "      <td>Тюмень</td>\n",
       "      <td>ultra</td>\n",
       "    </tr>\n",
       "    <tr>\n",
       "      <th>1</th>\n",
       "      <td>2</td>\n",
       "      <td>Станислав</td>\n",
       "      <td>31</td>\n",
       "      <td>Омск</td>\n",
       "      <td>ultra</td>\n",
       "    </tr>\n",
       "    <tr>\n",
       "      <th>2</th>\n",
       "      <td>3</td>\n",
       "      <td>Алексей</td>\n",
       "      <td>20</td>\n",
       "      <td>Москва</td>\n",
       "      <td>ultra</td>\n",
       "    </tr>\n",
       "    <tr>\n",
       "      <th>3</th>\n",
       "      <td>4</td>\n",
       "      <td>Константин</td>\n",
       "      <td>26</td>\n",
       "      <td>Ростов-на-Дону</td>\n",
       "      <td>ultra</td>\n",
       "    </tr>\n",
       "    <tr>\n",
       "      <th>4</th>\n",
       "      <td>5</td>\n",
       "      <td>Адель</td>\n",
       "      <td>28</td>\n",
       "      <td>Омск</td>\n",
       "      <td>ultra</td>\n",
       "    </tr>\n",
       "    <tr>\n",
       "      <th>...</th>\n",
       "      <td>...</td>\n",
       "      <td>...</td>\n",
       "      <td>...</td>\n",
       "      <td>...</td>\n",
       "      <td>...</td>\n",
       "    </tr>\n",
       "    <tr>\n",
       "      <th>1560</th>\n",
       "      <td>829</td>\n",
       "      <td>Федор</td>\n",
       "      <td>29</td>\n",
       "      <td>Пятигорск</td>\n",
       "      <td>free</td>\n",
       "    </tr>\n",
       "    <tr>\n",
       "      <th>1561</th>\n",
       "      <td>809</td>\n",
       "      <td>Юрий</td>\n",
       "      <td>26</td>\n",
       "      <td>Сочи</td>\n",
       "      <td>free</td>\n",
       "    </tr>\n",
       "    <tr>\n",
       "      <th>1562</th>\n",
       "      <td>307</td>\n",
       "      <td>Ясмина</td>\n",
       "      <td>19</td>\n",
       "      <td>Краснодар</td>\n",
       "      <td>ultra</td>\n",
       "    </tr>\n",
       "    <tr>\n",
       "      <th>1563</th>\n",
       "      <td>47</td>\n",
       "      <td>Юрий</td>\n",
       "      <td>28</td>\n",
       "      <td>Тюмень</td>\n",
       "      <td>ultra</td>\n",
       "    </tr>\n",
       "    <tr>\n",
       "      <th>1564</th>\n",
       "      <td>1045</td>\n",
       "      <td>Артемий</td>\n",
       "      <td>28</td>\n",
       "      <td>Ростов-на-Дону</td>\n",
       "      <td>free</td>\n",
       "    </tr>\n",
       "  </tbody>\n",
       "</table>\n",
       "<p>1565 rows × 5 columns</p>\n",
       "</div>"
      ],
      "text/plain": [
       "      user_id        name  age            city subscription_type\n",
       "0           1        Кира   22          Тюмень             ultra\n",
       "1           2   Станислав   31            Омск             ultra\n",
       "2           3     Алексей   20          Москва             ultra\n",
       "3           4  Константин   26  Ростов-на-Дону             ultra\n",
       "4           5       Адель   28            Омск             ultra\n",
       "...       ...         ...  ...             ...               ...\n",
       "1560      829       Федор   29       Пятигорск              free\n",
       "1561      809        Юрий   26            Сочи              free\n",
       "1562      307      Ясмина   19       Краснодар             ultra\n",
       "1563       47        Юрий   28          Тюмень             ultra\n",
       "1564     1045     Артемий   28  Ростов-на-Дону              free\n",
       "\n",
       "[1565 rows x 5 columns]"
      ]
     },
     "metadata": {},
     "output_type": "display_data"
    },
    {
     "data": {
      "text/html": [
       "<div>\n",
       "<style scoped>\n",
       "    .dataframe tbody tr th:only-of-type {\n",
       "        vertical-align: middle;\n",
       "    }\n",
       "\n",
       "    .dataframe tbody tr th {\n",
       "        vertical-align: top;\n",
       "    }\n",
       "\n",
       "    .dataframe thead th {\n",
       "        text-align: right;\n",
       "    }\n",
       "</style>\n",
       "<table border=\"1\" class=\"dataframe\">\n",
       "  <thead>\n",
       "    <tr style=\"text-align: right;\">\n",
       "      <th></th>\n",
       "      <th>user_id</th>\n",
       "      <th>distance</th>\n",
       "      <th>duration</th>\n",
       "      <th>date</th>\n",
       "    </tr>\n",
       "  </thead>\n",
       "  <tbody>\n",
       "    <tr>\n",
       "      <th>0</th>\n",
       "      <td>1</td>\n",
       "      <td>4409.919140</td>\n",
       "      <td>25.599769</td>\n",
       "      <td>2021-01-01</td>\n",
       "    </tr>\n",
       "    <tr>\n",
       "      <th>1</th>\n",
       "      <td>1</td>\n",
       "      <td>2617.592153</td>\n",
       "      <td>15.816871</td>\n",
       "      <td>2021-01-18</td>\n",
       "    </tr>\n",
       "    <tr>\n",
       "      <th>2</th>\n",
       "      <td>1</td>\n",
       "      <td>754.159807</td>\n",
       "      <td>6.232113</td>\n",
       "      <td>2021-04-20</td>\n",
       "    </tr>\n",
       "    <tr>\n",
       "      <th>3</th>\n",
       "      <td>1</td>\n",
       "      <td>2694.783254</td>\n",
       "      <td>18.511000</td>\n",
       "      <td>2021-08-11</td>\n",
       "    </tr>\n",
       "    <tr>\n",
       "      <th>4</th>\n",
       "      <td>1</td>\n",
       "      <td>4028.687306</td>\n",
       "      <td>26.265803</td>\n",
       "      <td>2021-08-28</td>\n",
       "    </tr>\n",
       "    <tr>\n",
       "      <th>...</th>\n",
       "      <td>...</td>\n",
       "      <td>...</td>\n",
       "      <td>...</td>\n",
       "      <td>...</td>\n",
       "    </tr>\n",
       "    <tr>\n",
       "      <th>18063</th>\n",
       "      <td>1534</td>\n",
       "      <td>3781.098080</td>\n",
       "      <td>19.822962</td>\n",
       "      <td>2021-11-04</td>\n",
       "    </tr>\n",
       "    <tr>\n",
       "      <th>18064</th>\n",
       "      <td>1534</td>\n",
       "      <td>2840.423057</td>\n",
       "      <td>21.409799</td>\n",
       "      <td>2021-11-16</td>\n",
       "    </tr>\n",
       "    <tr>\n",
       "      <th>18065</th>\n",
       "      <td>1534</td>\n",
       "      <td>3826.185507</td>\n",
       "      <td>18.435051</td>\n",
       "      <td>2021-11-18</td>\n",
       "    </tr>\n",
       "    <tr>\n",
       "      <th>18066</th>\n",
       "      <td>1534</td>\n",
       "      <td>2902.308661</td>\n",
       "      <td>16.674362</td>\n",
       "      <td>2021-11-27</td>\n",
       "    </tr>\n",
       "    <tr>\n",
       "      <th>18067</th>\n",
       "      <td>1534</td>\n",
       "      <td>2371.711192</td>\n",
       "      <td>15.893917</td>\n",
       "      <td>2021-12-29</td>\n",
       "    </tr>\n",
       "  </tbody>\n",
       "</table>\n",
       "<p>18068 rows × 4 columns</p>\n",
       "</div>"
      ],
      "text/plain": [
       "       user_id     distance   duration        date\n",
       "0            1  4409.919140  25.599769  2021-01-01\n",
       "1            1  2617.592153  15.816871  2021-01-18\n",
       "2            1   754.159807   6.232113  2021-04-20\n",
       "3            1  2694.783254  18.511000  2021-08-11\n",
       "4            1  4028.687306  26.265803  2021-08-28\n",
       "...        ...          ...        ...         ...\n",
       "18063     1534  3781.098080  19.822962  2021-11-04\n",
       "18064     1534  2840.423057  21.409799  2021-11-16\n",
       "18065     1534  3826.185507  18.435051  2021-11-18\n",
       "18066     1534  2902.308661  16.674362  2021-11-27\n",
       "18067     1534  2371.711192  15.893917  2021-12-29\n",
       "\n",
       "[18068 rows x 4 columns]"
      ]
     },
     "metadata": {},
     "output_type": "display_data"
    },
    {
     "data": {
      "text/html": [
       "<div>\n",
       "<style scoped>\n",
       "    .dataframe tbody tr th:only-of-type {\n",
       "        vertical-align: middle;\n",
       "    }\n",
       "\n",
       "    .dataframe tbody tr th {\n",
       "        vertical-align: top;\n",
       "    }\n",
       "\n",
       "    .dataframe thead th {\n",
       "        text-align: right;\n",
       "    }\n",
       "</style>\n",
       "<table border=\"1\" class=\"dataframe\">\n",
       "  <thead>\n",
       "    <tr style=\"text-align: right;\">\n",
       "      <th></th>\n",
       "      <th>subscription_type</th>\n",
       "      <th>minute_price</th>\n",
       "      <th>start_ride_price</th>\n",
       "      <th>subscription_fee</th>\n",
       "    </tr>\n",
       "  </thead>\n",
       "  <tbody>\n",
       "    <tr>\n",
       "      <th>0</th>\n",
       "      <td>free</td>\n",
       "      <td>8</td>\n",
       "      <td>50</td>\n",
       "      <td>0</td>\n",
       "    </tr>\n",
       "    <tr>\n",
       "      <th>1</th>\n",
       "      <td>ultra</td>\n",
       "      <td>6</td>\n",
       "      <td>0</td>\n",
       "      <td>199</td>\n",
       "    </tr>\n",
       "  </tbody>\n",
       "</table>\n",
       "</div>"
      ],
      "text/plain": [
       "  subscription_type  minute_price  start_ride_price  subscription_fee\n",
       "0              free             8                50                 0\n",
       "1             ultra             6                 0               199"
      ]
     },
     "metadata": {},
     "output_type": "display_data"
    },
    {
     "name": "stdout",
     "output_type": "stream",
     "text": [
      "   user_id        name  age            city subscription_type\n",
      "0        1        Кира   22          Тюмень             ultra\n",
      "1        2   Станислав   31            Омск             ultra\n",
      "2        3     Алексей   20          Москва             ultra\n",
      "3        4  Константин   26  Ростов-на-Дону             ultra\n",
      "4        5       Адель   28            Омск             ultra    user_id     distance   duration        date\n",
      "0        1  4409.919140  25.599769  2021-01-01\n",
      "1        1  2617.592153  15.816871  2021-01-18\n",
      "2        1   754.159807   6.232113  2021-04-20\n",
      "3        1  2694.783254  18.511000  2021-08-11\n",
      "4        1  4028.687306  26.265803  2021-08-28   subscription_type  minute_price  start_ride_price  subscription_fee\n",
      "0              free             8                50                 0\n",
      "1             ultra             6                 0               199\n",
      "<class 'pandas.core.frame.DataFrame'>\n",
      "RangeIndex: 1565 entries, 0 to 1564\n",
      "Data columns (total 5 columns):\n",
      " #   Column             Non-Null Count  Dtype \n",
      "---  ------             --------------  ----- \n",
      " 0   user_id            1565 non-null   int64 \n",
      " 1   name               1565 non-null   object\n",
      " 2   age                1565 non-null   int64 \n",
      " 3   city               1565 non-null   object\n",
      " 4   subscription_type  1565 non-null   object\n",
      "dtypes: int64(2), object(3)\n",
      "memory usage: 61.3+ KB\n",
      "<class 'pandas.core.frame.DataFrame'>\n",
      "RangeIndex: 18068 entries, 0 to 18067\n",
      "Data columns (total 4 columns):\n",
      " #   Column    Non-Null Count  Dtype  \n",
      "---  ------    --------------  -----  \n",
      " 0   user_id   18068 non-null  int64  \n",
      " 1   distance  18068 non-null  float64\n",
      " 2   duration  18068 non-null  float64\n",
      " 3   date      18068 non-null  object \n",
      "dtypes: float64(2), int64(1), object(1)\n",
      "memory usage: 564.8+ KB\n",
      "<class 'pandas.core.frame.DataFrame'>\n",
      "RangeIndex: 2 entries, 0 to 1\n",
      "Data columns (total 4 columns):\n",
      " #   Column             Non-Null Count  Dtype \n",
      "---  ------             --------------  ----- \n",
      " 0   subscription_type  2 non-null      object\n",
      " 1   minute_price       2 non-null      int64 \n",
      " 2   start_ride_price   2 non-null      int64 \n",
      " 3   subscription_fee   2 non-null      int64 \n",
      "dtypes: int64(3), object(1)\n",
      "memory usage: 192.0+ bytes\n"
     ]
    },
    {
     "data": {
      "text/plain": [
       "array([[<AxesSubplot:title={'center':'minute_price'}>,\n",
       "        <AxesSubplot:title={'center':'start_ride_price'}>],\n",
       "       [<AxesSubplot:title={'center':'subscription_fee'}>,\n",
       "        <AxesSubplot:>]], dtype=object)"
      ]
     },
     "execution_count": 2,
     "metadata": {},
     "output_type": "execute_result"
    },
    {
     "data": {
      "image/png": "[encoded data removed]",
      "text/plain": [
       "<Figure size 720x216 with 2 Axes>"
      ]
     },
     "metadata": {
      "needs_background": "light"
     },
     "output_type": "display_data"
    },
    {
     "data": {
      "image/png": "[encoded data removed]",
      "text/plain": [
       "<Figure size 504x504 with 4 Axes>"
      ]
     },
     "metadata": {
      "needs_background": "light"
     },
     "output_type": "display_data"
    },
    {
     "data": {
      "image/png": "[encoded data removed]",
      "text/plain": [
       "<Figure size 504x504 with 4 Axes>"
      ]
     },
     "metadata": {
      "needs_background": "light"
     },
     "output_type": "display_data"
    }
   ],
   "source": [
    "data_users = pd.read_csv('/datasets/users_go.csv')\n",
    "data_rides = pd.read_csv('/datasets/rides_go.csv')\n",
    "data_subscriptions = pd.read_csv('/datasets/subscriptions_go.csv')\n",
    "\n",
    "display(data_users, data_rides, data_subscriptions)\n",
    "\n",
    "print(data_users.head(), data_rides.head(), data_subscriptions.head())\n",
    "\n",
    "data_users.info()\n",
    "data_rides.info()\n",
    "data_subscriptions.info()\n",
    "\n",
    "data_users.hist(figsize=(10, 3))\n",
    "data_rides.hist(figsize=(7, 7))\n",
    "data_subscriptions.hist(figsize=(7, 7))"
   ]
  },
  {
   "cell_type": "markdown",
   "id": "28f163c4",
   "metadata": {},
   "source": [
    "кстати, уже на это этапе можно увидеть что все данные распределены по разному(биномиально, нормально, по Бернулли и т.д.). все данные успешно загружены и с ними можно работать."
   ]
  },
  {
   "cell_type": "markdown",
   "id": "86c92906",
   "metadata": {},
   "source": [
    "Критических проблем не было обнаружено. В данных отсутствуют пропуски, в датафрэйме с поездками нужно привести столбец date к типу даты pandas."
   ]
  },
  {
   "cell_type": "markdown",
   "id": "e95ebca7",
   "metadata": {},
   "source": [
    "#### Шаг 2. Предобработка данных"
   ]
  },
  {
   "cell_type": "code",
   "execution_count": 3,
   "id": "af6d202c",
   "metadata": {},
   "outputs": [
    {
     "name": "stdout",
     "output_type": "stream",
     "text": [
      "user_id              0\n",
      "name                 0\n",
      "age                  0\n",
      "city                 0\n",
      "subscription_type    0\n",
      "dtype: int64\n",
      "количество дубликатов 31\n",
      "user_id     0\n",
      "distance    0\n",
      "duration    0\n",
      "date        0\n",
      "month       0\n",
      "dtype: int64\n",
      "количество дубликатов 0\n",
      "subscription_type    0\n",
      "minute_price         0\n",
      "start_ride_price     0\n",
      "subscription_fee     0\n",
      "dtype: int64\n",
      "количество дубликатов 0\n"
     ]
    }
   ],
   "source": [
    "#2.1\n",
    "data_rides['date'] = pd.to_datetime(data_rides['date'], format = '%Y-%m-%d')\n",
    "#2.2\n",
    "data_rides['month'] = data_rides['date'].dt.month\n",
    "#print(data_rides['month'])\n",
    "#2.3\n",
    "def uniq(data):\n",
    "    print(data.isnull().sum())\n",
    "    print('количество дубликатов', data.duplicated().sum())\n",
    "uniq(data_users)\n",
    "uniq(data_rides) \n",
    "uniq(data_subscriptions)\n",
    "\n",
    "\n"
   ]
  },
  {
   "cell_type": "markdown",
   "id": "e4644e40",
   "metadata": {},
   "source": [
    "ура, спасибо большое, что пропущенных значений нет). НО есть дубликаты в первом датафрэйме, исправляем >>> "
   ]
  },
  {
   "cell_type": "code",
   "execution_count": 4,
   "id": "c39e7c03",
   "metadata": {},
   "outputs": [
    {
     "name": "stdout",
     "output_type": "stream",
     "text": [
      "user_id              0\n",
      "name                 0\n",
      "age                  0\n",
      "city                 0\n",
      "subscription_type    0\n",
      "dtype: int64\n",
      "количество дубликатов 0\n"
     ]
    }
   ],
   "source": [
    "data_users = data_users.drop_duplicates()\n",
    "uniq(data_users)"
   ]
  },
  {
   "cell_type": "markdown",
   "id": "60f95abf",
   "metadata": {},
   "source": [
    "вывод к шагу 2\n",
    "- данные выгружены\n",
    "- пропусков нет\n",
    "- дубликаты удалены"
   ]
  },
  {
   "cell_type": "markdown",
   "id": "212593c7",
   "metadata": {},
   "source": [
    "#### Шаг 3. Исследовательский анализ данных"
   ]
  },
  {
   "cell_type": "code",
   "execution_count": 5,
   "id": "e3a4274c",
   "metadata": {
    "scrolled": false
   },
   "outputs": [
    {
     "data": {
      "image/png": "[encoded data removed]",
      "text/plain": [
       "<Figure size 792x432 with 1 Axes>"
      ]
     },
     "metadata": {
      "needs_background": "light"
     },
     "output_type": "display_data"
    },
    {
     "data": {
      "text/html": [
       "<div>\n",
       "<style scoped>\n",
       "    .dataframe tbody tr th:only-of-type {\n",
       "        vertical-align: middle;\n",
       "    }\n",
       "\n",
       "    .dataframe tbody tr th {\n",
       "        vertical-align: top;\n",
       "    }\n",
       "\n",
       "    .dataframe thead th {\n",
       "        text-align: right;\n",
       "    }\n",
       "</style>\n",
       "<table border=\"1\" class=\"dataframe\">\n",
       "  <thead>\n",
       "    <tr style=\"text-align: right;\">\n",
       "      <th></th>\n",
       "      <th>user_id</th>\n",
       "    </tr>\n",
       "    <tr>\n",
       "      <th>city</th>\n",
       "      <th></th>\n",
       "    </tr>\n",
       "  </thead>\n",
       "  <tbody>\n",
       "    <tr>\n",
       "      <th>Пятигорск</th>\n",
       "      <td>219</td>\n",
       "    </tr>\n",
       "    <tr>\n",
       "      <th>Екатеринбург</th>\n",
       "      <td>204</td>\n",
       "    </tr>\n",
       "    <tr>\n",
       "      <th>Ростов-на-Дону</th>\n",
       "      <td>198</td>\n",
       "    </tr>\n",
       "    <tr>\n",
       "      <th>Краснодар</th>\n",
       "      <td>193</td>\n",
       "    </tr>\n",
       "    <tr>\n",
       "      <th>Сочи</th>\n",
       "      <td>189</td>\n",
       "    </tr>\n",
       "    <tr>\n",
       "      <th>Омск</th>\n",
       "      <td>183</td>\n",
       "    </tr>\n",
       "    <tr>\n",
       "      <th>Тюмень</th>\n",
       "      <td>180</td>\n",
       "    </tr>\n",
       "    <tr>\n",
       "      <th>Москва</th>\n",
       "      <td>168</td>\n",
       "    </tr>\n",
       "  </tbody>\n",
       "</table>\n",
       "</div>"
      ],
      "text/plain": [
       "                user_id\n",
       "city                   \n",
       "Пятигорск           219\n",
       "Екатеринбург        204\n",
       "Ростов-на-Дону      198\n",
       "Краснодар           193\n",
       "Сочи                189\n",
       "Омск                183\n",
       "Тюмень              180\n",
       "Москва              168"
      ]
     },
     "metadata": {},
     "output_type": "display_data"
    }
   ],
   "source": [
    "#3.1\n",
    "city = data_users['city']\n",
    "plt.figure(figsize=(11, 6))\n",
    "plt.hist(city, bins=20, range=(0,7))\n",
    "plt.title('Частота встречаемости городов')\n",
    "plt.xlabel('Города')\n",
    "plt.ylabel('Количество пользователей')\n",
    "plt.show()\n",
    "table_city = data_users.pivot_table(index='city', values='user_id', aggfunc = 'count')\n",
    "display(table_city.sort_values(by='user_id', ascending=False))"
   ]
  },
  {
   "cell_type": "markdown",
   "id": "409df61b",
   "metadata": {},
   "source": [
    "Из восьми представленных городов в таблице, лидирующее место по количеству пользователей занимает Пятигорск. Москва имеет меньшее из всей выборки число пользоваетелей."
   ]
  },
  {
   "cell_type": "code",
   "execution_count": 6,
   "id": "e9266a40",
   "metadata": {},
   "outputs": [
    {
     "data": {
      "image/png": "[encoded data removed]",
      "text/plain": [
       "<Figure size 432x432 with 1 Axes>"
      ]
     },
     "metadata": {
      "needs_background": "light"
     },
     "output_type": "display_data"
    },
    {
     "data": {
      "text/html": [
       "<div>\n",
       "<style scoped>\n",
       "    .dataframe tbody tr th:only-of-type {\n",
       "        vertical-align: middle;\n",
       "    }\n",
       "\n",
       "    .dataframe tbody tr th {\n",
       "        vertical-align: top;\n",
       "    }\n",
       "\n",
       "    .dataframe thead th {\n",
       "        text-align: right;\n",
       "    }\n",
       "</style>\n",
       "<table border=\"1\" class=\"dataframe\">\n",
       "  <thead>\n",
       "    <tr style=\"text-align: right;\">\n",
       "      <th></th>\n",
       "      <th>user_id</th>\n",
       "    </tr>\n",
       "    <tr>\n",
       "      <th>subscription_type</th>\n",
       "      <th></th>\n",
       "    </tr>\n",
       "  </thead>\n",
       "  <tbody>\n",
       "    <tr>\n",
       "      <th>free</th>\n",
       "      <td>835</td>\n",
       "    </tr>\n",
       "    <tr>\n",
       "      <th>ultra</th>\n",
       "      <td>699</td>\n",
       "    </tr>\n",
       "  </tbody>\n",
       "</table>\n",
       "</div>"
      ],
      "text/plain": [
       "                   user_id\n",
       "subscription_type         \n",
       "free                   835\n",
       "ultra                  699"
      ]
     },
     "metadata": {},
     "output_type": "display_data"
    },
    {
     "name": "stdout",
     "output_type": "stream",
     "text": [
      "Доля пользователей с подпиской:  45.6 %\n",
      "Доля пользователей без подписки:  54.4 %\n"
     ]
    }
   ],
   "source": [
    "#3.2\n",
    "subscription = data_users['subscription_type']\n",
    "plt.figure(figsize=(6, 6))\n",
    "plt.hist(subscription, bins=6)\n",
    "plt.title('Соотношение пользователей с подпиской и без подписки')\n",
    "plt.xlabel('Тип подписки')\n",
    "plt.ylabel('Количество пользователей')\n",
    "plt.show()\n",
    "table_subscription = data_users.pivot_table(index='subscription_type', values='user_id', aggfunc = 'count')\n",
    "display(table_subscription.sort_values(by='user_id', ascending=False))\n",
    "\n",
    "# считаю разбивку пользователей по тарифам в долях\n",
    "# users_total = data_users['subscription_type'].value_counts()\n",
    "# print(users_total)\n",
    "share_free = 835\n",
    "share_ultra = 699\n",
    "count_users = share_free + share_ultra\n",
    "print('Доля пользователей с подпиской: ', round((share_ultra/count_users)*100, 1), '%')\n",
    "print('Доля пользователей без подписки: ', round((share_free/count_users)*100, 1), '%')"
   ]
  },
  {
   "cell_type": "markdown",
   "id": "7dc0a356",
   "metadata": {},
   "source": [
    "По гистограмме видим, что пользователей без подписки больше. С подпиской 699(45.6 %), без - 835(54.4 %) пользователей."
   ]
  },
  {
   "cell_type": "code",
   "execution_count": 7,
   "id": "c13ada9f",
   "metadata": {},
   "outputs": [
    {
     "data": {
      "image/png": "[encoded data removed]",
      "text/plain": [
       "<Figure size 720x432 with 1 Axes>"
      ]
     },
     "metadata": {
      "needs_background": "light"
     },
     "output_type": "display_data"
    },
    {
     "data": {
      "text/html": [
       "<div>\n",
       "<style scoped>\n",
       "    .dataframe tbody tr th:only-of-type {\n",
       "        vertical-align: middle;\n",
       "    }\n",
       "\n",
       "    .dataframe tbody tr th {\n",
       "        vertical-align: top;\n",
       "    }\n",
       "\n",
       "    .dataframe thead th {\n",
       "        text-align: right;\n",
       "    }\n",
       "</style>\n",
       "<table border=\"1\" class=\"dataframe\">\n",
       "  <thead>\n",
       "    <tr style=\"text-align: right;\">\n",
       "      <th></th>\n",
       "      <th>user_id</th>\n",
       "    </tr>\n",
       "    <tr>\n",
       "      <th>age</th>\n",
       "      <th></th>\n",
       "    </tr>\n",
       "  </thead>\n",
       "  <tbody>\n",
       "    <tr>\n",
       "      <th>25</th>\n",
       "      <td>145</td>\n",
       "    </tr>\n",
       "    <tr>\n",
       "      <th>24</th>\n",
       "      <td>132</td>\n",
       "    </tr>\n",
       "    <tr>\n",
       "      <th>26</th>\n",
       "      <td>131</td>\n",
       "    </tr>\n",
       "    <tr>\n",
       "      <th>23</th>\n",
       "      <td>129</td>\n",
       "    </tr>\n",
       "    <tr>\n",
       "      <th>27</th>\n",
       "      <td>119</td>\n",
       "    </tr>\n",
       "    <tr>\n",
       "      <th>22</th>\n",
       "      <td>119</td>\n",
       "    </tr>\n",
       "    <tr>\n",
       "      <th>28</th>\n",
       "      <td>112</td>\n",
       "    </tr>\n",
       "    <tr>\n",
       "      <th>21</th>\n",
       "      <td>93</td>\n",
       "    </tr>\n",
       "    <tr>\n",
       "      <th>20</th>\n",
       "      <td>71</td>\n",
       "    </tr>\n",
       "    <tr>\n",
       "      <th>30</th>\n",
       "      <td>68</td>\n",
       "    </tr>\n",
       "    <tr>\n",
       "      <th>29</th>\n",
       "      <td>68</td>\n",
       "    </tr>\n",
       "    <tr>\n",
       "      <th>31</th>\n",
       "      <td>48</td>\n",
       "    </tr>\n",
       "    <tr>\n",
       "      <th>19</th>\n",
       "      <td>47</td>\n",
       "    </tr>\n",
       "    <tr>\n",
       "      <th>18</th>\n",
       "      <td>46</td>\n",
       "    </tr>\n",
       "    <tr>\n",
       "      <th>32</th>\n",
       "      <td>41</td>\n",
       "    </tr>\n",
       "    <tr>\n",
       "      <th>33</th>\n",
       "      <td>39</td>\n",
       "    </tr>\n",
       "    <tr>\n",
       "      <th>17</th>\n",
       "      <td>26</td>\n",
       "    </tr>\n",
       "    <tr>\n",
       "      <th>34</th>\n",
       "      <td>19</td>\n",
       "    </tr>\n",
       "    <tr>\n",
       "      <th>16</th>\n",
       "      <td>19</td>\n",
       "    </tr>\n",
       "    <tr>\n",
       "      <th>35</th>\n",
       "      <td>15</td>\n",
       "    </tr>\n",
       "    <tr>\n",
       "      <th>15</th>\n",
       "      <td>13</td>\n",
       "    </tr>\n",
       "    <tr>\n",
       "      <th>14</th>\n",
       "      <td>9</td>\n",
       "    </tr>\n",
       "    <tr>\n",
       "      <th>13</th>\n",
       "      <td>8</td>\n",
       "    </tr>\n",
       "    <tr>\n",
       "      <th>36</th>\n",
       "      <td>6</td>\n",
       "    </tr>\n",
       "    <tr>\n",
       "      <th>12</th>\n",
       "      <td>4</td>\n",
       "    </tr>\n",
       "    <tr>\n",
       "      <th>38</th>\n",
       "      <td>3</td>\n",
       "    </tr>\n",
       "    <tr>\n",
       "      <th>37</th>\n",
       "      <td>2</td>\n",
       "    </tr>\n",
       "    <tr>\n",
       "      <th>39</th>\n",
       "      <td>1</td>\n",
       "    </tr>\n",
       "    <tr>\n",
       "      <th>43</th>\n",
       "      <td>1</td>\n",
       "    </tr>\n",
       "  </tbody>\n",
       "</table>\n",
       "</div>"
      ],
      "text/plain": [
       "     user_id\n",
       "age         \n",
       "25       145\n",
       "24       132\n",
       "26       131\n",
       "23       129\n",
       "27       119\n",
       "22       119\n",
       "28       112\n",
       "21        93\n",
       "20        71\n",
       "30        68\n",
       "29        68\n",
       "31        48\n",
       "19        47\n",
       "18        46\n",
       "32        41\n",
       "33        39\n",
       "17        26\n",
       "34        19\n",
       "16        19\n",
       "35        15\n",
       "15        13\n",
       "14         9\n",
       "13         8\n",
       "36         6\n",
       "12         4\n",
       "38         3\n",
       "37         2\n",
       "39         1\n",
       "43         1"
      ]
     },
     "metadata": {},
     "output_type": "display_data"
    },
    {
     "name": "stdout",
     "output_type": "stream",
     "text": [
      "count    1534.000000\n",
      "mean       24.903520\n",
      "std         4.572367\n",
      "min        12.000000\n",
      "25%        22.000000\n",
      "50%        25.000000\n",
      "75%        28.000000\n",
      "max        43.000000\n",
      "Name: age, dtype: float64\n"
     ]
    }
   ],
   "source": [
    "#3.3\n",
    "age = data_users['age']\n",
    "plt.figure(figsize=(10, 6))\n",
    "plt.hist(age, bins=30)\n",
    "plt.title('Возраст пользователей')\n",
    "plt.xlabel('Возраст')\n",
    "plt.ylabel('Количество пользователей')\n",
    "plt.show()\n",
    "table_age = data_users.pivot_table(index='age', values='user_id', aggfunc = 'count')\n",
    "display(table_age.sort_values(by='user_id', ascending=False))\n",
    "print(age.describe())"
   ]
  },
  {
   "cell_type": "markdown",
   "id": "927fb245",
   "metadata": {},
   "source": [
    "Возраст, как мы видим распределен нормально, сервис имеет популярность больше всего у 25 летних пользователей , медиана не сильно отличается от среднего."
   ]
  },
  {
   "cell_type": "code",
   "execution_count": 8,
   "id": "72544c37",
   "metadata": {},
   "outputs": [
    {
     "data": {
      "image/png": "[encoded data removed]",
      "text/plain": [
       "<Figure size 720x432 with 1 Axes>"
      ]
     },
     "metadata": {
      "needs_background": "light"
     },
     "output_type": "display_data"
    },
    {
     "name": "stdout",
     "output_type": "stream",
     "text": [
      "count    18068.000000\n",
      "mean      3070.659976\n",
      "std       1116.831209\n",
      "min          0.855683\n",
      "25%       2543.226360\n",
      "50%       3133.609994\n",
      "75%       3776.222735\n",
      "max       7211.007745\n",
      "Name: distance, dtype: float64\n"
     ]
    }
   ],
   "source": [
    "#3.4\n",
    "distance = data_rides['distance']\n",
    "plt.figure(figsize=(10, 6))\n",
    "plt.hist(distance, bins=30)\n",
    "plt.title('Расстояние, которое пользователь преодолел за одну поездку')\n",
    "plt.xlabel('метры')\n",
    "plt.ylabel('Количество пользователей')\n",
    "plt.show()\n",
    "#Думаю, тут не имеет смысла строить сводную таблицу)\n",
    "print(distance.describe())"
   ]
  },
  {
   "cell_type": "markdown",
   "id": "6cc659d6",
   "metadata": {},
   "source": [
    "Среднее расстояние предолеваемое пользователем состовляет примерно 3км. Ну еще есть небольшой всплеск около 500-600 метров(не могу предположить с чем он связан), возможно эти люди преодолевали такое маленькое расстояние потому что только учились ездить на электрических самокатах."
   ]
  },
  {
   "cell_type": "code",
   "execution_count": 9,
   "id": "90ad83d3",
   "metadata": {},
   "outputs": [
    {
     "data": {
      "image/png": "[encoded data removed]",
      "text/plain": [
       "<Figure size 720x432 with 1 Axes>"
      ]
     },
     "metadata": {
      "needs_background": "light"
     },
     "output_type": "display_data"
    },
    {
     "name": "stdout",
     "output_type": "stream",
     "text": [
      "count    18068.000000\n",
      "mean        17.805011\n",
      "std          6.091051\n",
      "min          0.500000\n",
      "25%         13.597563\n",
      "50%         17.678395\n",
      "75%         21.724800\n",
      "max         40.823963\n",
      "Name: duration, dtype: float64\n"
     ]
    }
   ],
   "source": [
    "#3.5\n",
    "duration = data_rides['duration']\n",
    "plt.figure(figsize=(10, 6))\n",
    "plt.hist(duration, bins=30)\n",
    "plt.title('Продолжительность поездок')\n",
    "plt.xlabel('минуты')\n",
    "plt.ylabel('Количество пользователей')\n",
    "plt.show()\n",
    "#Думаю, тут не имеет смысла строить сводную таблицу)\n",
    "print(duration.describe())"
   ]
  },
  {
   "cell_type": "markdown",
   "id": "e3e955b2",
   "metadata": {},
   "source": [
    "Средняя продожительность поездок составляет примерно чуть больше 17 минут."
   ]
  },
  {
   "cell_type": "markdown",
   "id": "f6226855",
   "metadata": {},
   "source": [
    "Вывод к шагу 3:\n",
    "- Из восьми представленных городов в таблице, лидирующее место по количеству пользователей занимает Пятигорск. Москва имеет меньшее из всей выборки число пользоваетелей.\n",
    "- По гистограмме видим, что пользователей без подписки больше. С подпиской(45.6%) 699, без(54.4%) - 835 пользователей.\n",
    "- Возраст, как мы видим распределен нормально, сервис имеет популярность больше всего у 25 летних пользователей , медиана не сильно отличается от среднего.\n",
    "- Среднее расстояние предолеваемое пользователем состовляет примерно 3км. Ну еще есть небольшой всплеск около 500-600 метров(не могу предположить с чем он связан), возможно эти люди преодолевали такое маленькое расстояние потому что только учились ездить на электрических самокатах.\n",
    "- Средняя продожительность поездок составляет примерно чуть больше 17 минут."
   ]
  },
  {
   "cell_type": "markdown",
   "id": "4ef51331",
   "metadata": {},
   "source": [
    "#### Шаг 4. Объединение данных"
   ]
  },
  {
   "cell_type": "code",
   "execution_count": 10,
   "id": "6bf288b5",
   "metadata": {},
   "outputs": [
    {
     "data": {
      "text/html": [
       "<div>\n",
       "<style scoped>\n",
       "    .dataframe tbody tr th:only-of-type {\n",
       "        vertical-align: middle;\n",
       "    }\n",
       "\n",
       "    .dataframe tbody tr th {\n",
       "        vertical-align: top;\n",
       "    }\n",
       "\n",
       "    .dataframe thead th {\n",
       "        text-align: right;\n",
       "    }\n",
       "</style>\n",
       "<table border=\"1\" class=\"dataframe\">\n",
       "  <thead>\n",
       "    <tr style=\"text-align: right;\">\n",
       "      <th></th>\n",
       "      <th>user_id</th>\n",
       "      <th>name</th>\n",
       "      <th>age</th>\n",
       "      <th>city</th>\n",
       "      <th>subscription_type</th>\n",
       "      <th>distance</th>\n",
       "      <th>duration</th>\n",
       "      <th>date</th>\n",
       "      <th>month</th>\n",
       "      <th>minute_price</th>\n",
       "      <th>start_ride_price</th>\n",
       "      <th>subscription_fee</th>\n",
       "    </tr>\n",
       "  </thead>\n",
       "  <tbody>\n",
       "    <tr>\n",
       "      <th>0</th>\n",
       "      <td>1</td>\n",
       "      <td>Кира</td>\n",
       "      <td>22</td>\n",
       "      <td>Тюмень</td>\n",
       "      <td>ultra</td>\n",
       "      <td>4409.919140</td>\n",
       "      <td>25.599769</td>\n",
       "      <td>2021-01-01</td>\n",
       "      <td>1</td>\n",
       "      <td>6</td>\n",
       "      <td>0</td>\n",
       "      <td>199</td>\n",
       "    </tr>\n",
       "    <tr>\n",
       "      <th>1</th>\n",
       "      <td>1</td>\n",
       "      <td>Кира</td>\n",
       "      <td>22</td>\n",
       "      <td>Тюмень</td>\n",
       "      <td>ultra</td>\n",
       "      <td>2617.592153</td>\n",
       "      <td>15.816871</td>\n",
       "      <td>2021-01-18</td>\n",
       "      <td>1</td>\n",
       "      <td>6</td>\n",
       "      <td>0</td>\n",
       "      <td>199</td>\n",
       "    </tr>\n",
       "    <tr>\n",
       "      <th>2</th>\n",
       "      <td>1</td>\n",
       "      <td>Кира</td>\n",
       "      <td>22</td>\n",
       "      <td>Тюмень</td>\n",
       "      <td>ultra</td>\n",
       "      <td>754.159807</td>\n",
       "      <td>6.232113</td>\n",
       "      <td>2021-04-20</td>\n",
       "      <td>4</td>\n",
       "      <td>6</td>\n",
       "      <td>0</td>\n",
       "      <td>199</td>\n",
       "    </tr>\n",
       "    <tr>\n",
       "      <th>3</th>\n",
       "      <td>1</td>\n",
       "      <td>Кира</td>\n",
       "      <td>22</td>\n",
       "      <td>Тюмень</td>\n",
       "      <td>ultra</td>\n",
       "      <td>2694.783254</td>\n",
       "      <td>18.511000</td>\n",
       "      <td>2021-08-11</td>\n",
       "      <td>8</td>\n",
       "      <td>6</td>\n",
       "      <td>0</td>\n",
       "      <td>199</td>\n",
       "    </tr>\n",
       "    <tr>\n",
       "      <th>4</th>\n",
       "      <td>1</td>\n",
       "      <td>Кира</td>\n",
       "      <td>22</td>\n",
       "      <td>Тюмень</td>\n",
       "      <td>ultra</td>\n",
       "      <td>4028.687306</td>\n",
       "      <td>26.265803</td>\n",
       "      <td>2021-08-28</td>\n",
       "      <td>8</td>\n",
       "      <td>6</td>\n",
       "      <td>0</td>\n",
       "      <td>199</td>\n",
       "    </tr>\n",
       "    <tr>\n",
       "      <th>...</th>\n",
       "      <td>...</td>\n",
       "      <td>...</td>\n",
       "      <td>...</td>\n",
       "      <td>...</td>\n",
       "      <td>...</td>\n",
       "      <td>...</td>\n",
       "      <td>...</td>\n",
       "      <td>...</td>\n",
       "      <td>...</td>\n",
       "      <td>...</td>\n",
       "      <td>...</td>\n",
       "      <td>...</td>\n",
       "    </tr>\n",
       "    <tr>\n",
       "      <th>18063</th>\n",
       "      <td>1534</td>\n",
       "      <td>Альберт</td>\n",
       "      <td>25</td>\n",
       "      <td>Краснодар</td>\n",
       "      <td>free</td>\n",
       "      <td>3781.098080</td>\n",
       "      <td>19.822962</td>\n",
       "      <td>2021-11-04</td>\n",
       "      <td>11</td>\n",
       "      <td>8</td>\n",
       "      <td>50</td>\n",
       "      <td>0</td>\n",
       "    </tr>\n",
       "    <tr>\n",
       "      <th>18064</th>\n",
       "      <td>1534</td>\n",
       "      <td>Альберт</td>\n",
       "      <td>25</td>\n",
       "      <td>Краснодар</td>\n",
       "      <td>free</td>\n",
       "      <td>2840.423057</td>\n",
       "      <td>21.409799</td>\n",
       "      <td>2021-11-16</td>\n",
       "      <td>11</td>\n",
       "      <td>8</td>\n",
       "      <td>50</td>\n",
       "      <td>0</td>\n",
       "    </tr>\n",
       "    <tr>\n",
       "      <th>18065</th>\n",
       "      <td>1534</td>\n",
       "      <td>Альберт</td>\n",
       "      <td>25</td>\n",
       "      <td>Краснодар</td>\n",
       "      <td>free</td>\n",
       "      <td>3826.185507</td>\n",
       "      <td>18.435051</td>\n",
       "      <td>2021-11-18</td>\n",
       "      <td>11</td>\n",
       "      <td>8</td>\n",
       "      <td>50</td>\n",
       "      <td>0</td>\n",
       "    </tr>\n",
       "    <tr>\n",
       "      <th>18066</th>\n",
       "      <td>1534</td>\n",
       "      <td>Альберт</td>\n",
       "      <td>25</td>\n",
       "      <td>Краснодар</td>\n",
       "      <td>free</td>\n",
       "      <td>2902.308661</td>\n",
       "      <td>16.674362</td>\n",
       "      <td>2021-11-27</td>\n",
       "      <td>11</td>\n",
       "      <td>8</td>\n",
       "      <td>50</td>\n",
       "      <td>0</td>\n",
       "    </tr>\n",
       "    <tr>\n",
       "      <th>18067</th>\n",
       "      <td>1534</td>\n",
       "      <td>Альберт</td>\n",
       "      <td>25</td>\n",
       "      <td>Краснодар</td>\n",
       "      <td>free</td>\n",
       "      <td>2371.711192</td>\n",
       "      <td>15.893917</td>\n",
       "      <td>2021-12-29</td>\n",
       "      <td>12</td>\n",
       "      <td>8</td>\n",
       "      <td>50</td>\n",
       "      <td>0</td>\n",
       "    </tr>\n",
       "  </tbody>\n",
       "</table>\n",
       "<p>18068 rows × 12 columns</p>\n",
       "</div>"
      ],
      "text/plain": [
       "       user_id     name  age       city subscription_type     distance  \\\n",
       "0            1     Кира   22     Тюмень             ultra  4409.919140   \n",
       "1            1     Кира   22     Тюмень             ultra  2617.592153   \n",
       "2            1     Кира   22     Тюмень             ultra   754.159807   \n",
       "3            1     Кира   22     Тюмень             ultra  2694.783254   \n",
       "4            1     Кира   22     Тюмень             ultra  4028.687306   \n",
       "...        ...      ...  ...        ...               ...          ...   \n",
       "18063     1534  Альберт   25  Краснодар              free  3781.098080   \n",
       "18064     1534  Альберт   25  Краснодар              free  2840.423057   \n",
       "18065     1534  Альберт   25  Краснодар              free  3826.185507   \n",
       "18066     1534  Альберт   25  Краснодар              free  2902.308661   \n",
       "18067     1534  Альберт   25  Краснодар              free  2371.711192   \n",
       "\n",
       "        duration       date  month  minute_price  start_ride_price  \\\n",
       "0      25.599769 2021-01-01      1             6                 0   \n",
       "1      15.816871 2021-01-18      1             6                 0   \n",
       "2       6.232113 2021-04-20      4             6                 0   \n",
       "3      18.511000 2021-08-11      8             6                 0   \n",
       "4      26.265803 2021-08-28      8             6                 0   \n",
       "...          ...        ...    ...           ...               ...   \n",
       "18063  19.822962 2021-11-04     11             8                50   \n",
       "18064  21.409799 2021-11-16     11             8                50   \n",
       "18065  18.435051 2021-11-18     11             8                50   \n",
       "18066  16.674362 2021-11-27     11             8                50   \n",
       "18067  15.893917 2021-12-29     12             8                50   \n",
       "\n",
       "       subscription_fee  \n",
       "0                   199  \n",
       "1                   199  \n",
       "2                   199  \n",
       "3                   199  \n",
       "4                   199  \n",
       "...                 ...  \n",
       "18063                 0  \n",
       "18064                 0  \n",
       "18065                 0  \n",
       "18066                 0  \n",
       "18067                 0  \n",
       "\n",
       "[18068 rows x 12 columns]"
      ]
     },
     "metadata": {},
     "output_type": "display_data"
    }
   ],
   "source": [
    "#4.1\n",
    "data0 = data_users.merge(data_rides, on='user_id', how='left')\n",
    "data = data0.merge(data_subscriptions, on='subscription_type', how='left')\n",
    "display(data)"
   ]
  },
  {
   "cell_type": "code",
   "execution_count": 11,
   "id": "1044b701",
   "metadata": {},
   "outputs": [
    {
     "data": {
      "text/html": [
       "<div>\n",
       "<style scoped>\n",
       "    .dataframe tbody tr th:only-of-type {\n",
       "        vertical-align: middle;\n",
       "    }\n",
       "\n",
       "    .dataframe tbody tr th {\n",
       "        vertical-align: top;\n",
       "    }\n",
       "\n",
       "    .dataframe thead th {\n",
       "        text-align: right;\n",
       "    }\n",
       "</style>\n",
       "<table border=\"1\" class=\"dataframe\">\n",
       "  <thead>\n",
       "    <tr style=\"text-align: right;\">\n",
       "      <th></th>\n",
       "      <th>user_id</th>\n",
       "      <th>name</th>\n",
       "      <th>age</th>\n",
       "      <th>city</th>\n",
       "      <th>subscription_type</th>\n",
       "      <th>distance</th>\n",
       "      <th>duration</th>\n",
       "      <th>date</th>\n",
       "      <th>month</th>\n",
       "      <th>minute_price</th>\n",
       "      <th>start_ride_price</th>\n",
       "      <th>subscription_fee</th>\n",
       "    </tr>\n",
       "  </thead>\n",
       "  <tbody>\n",
       "    <tr>\n",
       "      <th>6500</th>\n",
       "      <td>700</td>\n",
       "      <td>Айдар</td>\n",
       "      <td>22</td>\n",
       "      <td>Омск</td>\n",
       "      <td>free</td>\n",
       "      <td>2515.690719</td>\n",
       "      <td>14.944286</td>\n",
       "      <td>2021-01-02</td>\n",
       "      <td>1</td>\n",
       "      <td>8</td>\n",
       "      <td>50</td>\n",
       "      <td>0</td>\n",
       "    </tr>\n",
       "    <tr>\n",
       "      <th>6501</th>\n",
       "      <td>700</td>\n",
       "      <td>Айдар</td>\n",
       "      <td>22</td>\n",
       "      <td>Омск</td>\n",
       "      <td>free</td>\n",
       "      <td>846.932642</td>\n",
       "      <td>16.234663</td>\n",
       "      <td>2021-02-01</td>\n",
       "      <td>2</td>\n",
       "      <td>8</td>\n",
       "      <td>50</td>\n",
       "      <td>0</td>\n",
       "    </tr>\n",
       "    <tr>\n",
       "      <th>6502</th>\n",
       "      <td>700</td>\n",
       "      <td>Айдар</td>\n",
       "      <td>22</td>\n",
       "      <td>Омск</td>\n",
       "      <td>free</td>\n",
       "      <td>4004.434142</td>\n",
       "      <td>20.016628</td>\n",
       "      <td>2021-02-04</td>\n",
       "      <td>2</td>\n",
       "      <td>8</td>\n",
       "      <td>50</td>\n",
       "      <td>0</td>\n",
       "    </tr>\n",
       "    <tr>\n",
       "      <th>6503</th>\n",
       "      <td>700</td>\n",
       "      <td>Айдар</td>\n",
       "      <td>22</td>\n",
       "      <td>Омск</td>\n",
       "      <td>free</td>\n",
       "      <td>1205.911290</td>\n",
       "      <td>9.782872</td>\n",
       "      <td>2021-02-10</td>\n",
       "      <td>2</td>\n",
       "      <td>8</td>\n",
       "      <td>50</td>\n",
       "      <td>0</td>\n",
       "    </tr>\n",
       "    <tr>\n",
       "      <th>6504</th>\n",
       "      <td>700</td>\n",
       "      <td>Айдар</td>\n",
       "      <td>22</td>\n",
       "      <td>Омск</td>\n",
       "      <td>free</td>\n",
       "      <td>3047.379435</td>\n",
       "      <td>17.427673</td>\n",
       "      <td>2021-02-14</td>\n",
       "      <td>2</td>\n",
       "      <td>8</td>\n",
       "      <td>50</td>\n",
       "      <td>0</td>\n",
       "    </tr>\n",
       "    <tr>\n",
       "      <th>...</th>\n",
       "      <td>...</td>\n",
       "      <td>...</td>\n",
       "      <td>...</td>\n",
       "      <td>...</td>\n",
       "      <td>...</td>\n",
       "      <td>...</td>\n",
       "      <td>...</td>\n",
       "      <td>...</td>\n",
       "      <td>...</td>\n",
       "      <td>...</td>\n",
       "      <td>...</td>\n",
       "      <td>...</td>\n",
       "    </tr>\n",
       "    <tr>\n",
       "      <th>18063</th>\n",
       "      <td>1534</td>\n",
       "      <td>Альберт</td>\n",
       "      <td>25</td>\n",
       "      <td>Краснодар</td>\n",
       "      <td>free</td>\n",
       "      <td>3781.098080</td>\n",
       "      <td>19.822962</td>\n",
       "      <td>2021-11-04</td>\n",
       "      <td>11</td>\n",
       "      <td>8</td>\n",
       "      <td>50</td>\n",
       "      <td>0</td>\n",
       "    </tr>\n",
       "    <tr>\n",
       "      <th>18064</th>\n",
       "      <td>1534</td>\n",
       "      <td>Альберт</td>\n",
       "      <td>25</td>\n",
       "      <td>Краснодар</td>\n",
       "      <td>free</td>\n",
       "      <td>2840.423057</td>\n",
       "      <td>21.409799</td>\n",
       "      <td>2021-11-16</td>\n",
       "      <td>11</td>\n",
       "      <td>8</td>\n",
       "      <td>50</td>\n",
       "      <td>0</td>\n",
       "    </tr>\n",
       "    <tr>\n",
       "      <th>18065</th>\n",
       "      <td>1534</td>\n",
       "      <td>Альберт</td>\n",
       "      <td>25</td>\n",
       "      <td>Краснодар</td>\n",
       "      <td>free</td>\n",
       "      <td>3826.185507</td>\n",
       "      <td>18.435051</td>\n",
       "      <td>2021-11-18</td>\n",
       "      <td>11</td>\n",
       "      <td>8</td>\n",
       "      <td>50</td>\n",
       "      <td>0</td>\n",
       "    </tr>\n",
       "    <tr>\n",
       "      <th>18066</th>\n",
       "      <td>1534</td>\n",
       "      <td>Альберт</td>\n",
       "      <td>25</td>\n",
       "      <td>Краснодар</td>\n",
       "      <td>free</td>\n",
       "      <td>2902.308661</td>\n",
       "      <td>16.674362</td>\n",
       "      <td>2021-11-27</td>\n",
       "      <td>11</td>\n",
       "      <td>8</td>\n",
       "      <td>50</td>\n",
       "      <td>0</td>\n",
       "    </tr>\n",
       "    <tr>\n",
       "      <th>18067</th>\n",
       "      <td>1534</td>\n",
       "      <td>Альберт</td>\n",
       "      <td>25</td>\n",
       "      <td>Краснодар</td>\n",
       "      <td>free</td>\n",
       "      <td>2371.711192</td>\n",
       "      <td>15.893917</td>\n",
       "      <td>2021-12-29</td>\n",
       "      <td>12</td>\n",
       "      <td>8</td>\n",
       "      <td>50</td>\n",
       "      <td>0</td>\n",
       "    </tr>\n",
       "  </tbody>\n",
       "</table>\n",
       "<p>11568 rows × 12 columns</p>\n",
       "</div>"
      ],
      "text/plain": [
       "       user_id     name  age       city subscription_type     distance  \\\n",
       "6500       700    Айдар   22       Омск              free  2515.690719   \n",
       "6501       700    Айдар   22       Омск              free   846.932642   \n",
       "6502       700    Айдар   22       Омск              free  4004.434142   \n",
       "6503       700    Айдар   22       Омск              free  1205.911290   \n",
       "6504       700    Айдар   22       Омск              free  3047.379435   \n",
       "...        ...      ...  ...        ...               ...          ...   \n",
       "18063     1534  Альберт   25  Краснодар              free  3781.098080   \n",
       "18064     1534  Альберт   25  Краснодар              free  2840.423057   \n",
       "18065     1534  Альберт   25  Краснодар              free  3826.185507   \n",
       "18066     1534  Альберт   25  Краснодар              free  2902.308661   \n",
       "18067     1534  Альберт   25  Краснодар              free  2371.711192   \n",
       "\n",
       "        duration       date  month  minute_price  start_ride_price  \\\n",
       "6500   14.944286 2021-01-02      1             8                50   \n",
       "6501   16.234663 2021-02-01      2             8                50   \n",
       "6502   20.016628 2021-02-04      2             8                50   \n",
       "6503    9.782872 2021-02-10      2             8                50   \n",
       "6504   17.427673 2021-02-14      2             8                50   \n",
       "...          ...        ...    ...           ...               ...   \n",
       "18063  19.822962 2021-11-04     11             8                50   \n",
       "18064  21.409799 2021-11-16     11             8                50   \n",
       "18065  18.435051 2021-11-18     11             8                50   \n",
       "18066  16.674362 2021-11-27     11             8                50   \n",
       "18067  15.893917 2021-12-29     12             8                50   \n",
       "\n",
       "       subscription_fee  \n",
       "6500                  0  \n",
       "6501                  0  \n",
       "6502                  0  \n",
       "6503                  0  \n",
       "6504                  0  \n",
       "...                 ...  \n",
       "18063                 0  \n",
       "18064                 0  \n",
       "18065                 0  \n",
       "18066                 0  \n",
       "18067                 0  \n",
       "\n",
       "[11568 rows x 12 columns]"
      ]
     },
     "metadata": {},
     "output_type": "display_data"
    },
    {
     "data": {
      "text/html": [
       "<div>\n",
       "<style scoped>\n",
       "    .dataframe tbody tr th:only-of-type {\n",
       "        vertical-align: middle;\n",
       "    }\n",
       "\n",
       "    .dataframe tbody tr th {\n",
       "        vertical-align: top;\n",
       "    }\n",
       "\n",
       "    .dataframe thead th {\n",
       "        text-align: right;\n",
       "    }\n",
       "</style>\n",
       "<table border=\"1\" class=\"dataframe\">\n",
       "  <thead>\n",
       "    <tr style=\"text-align: right;\">\n",
       "      <th></th>\n",
       "      <th>user_id</th>\n",
       "      <th>name</th>\n",
       "      <th>age</th>\n",
       "      <th>city</th>\n",
       "      <th>subscription_type</th>\n",
       "      <th>distance</th>\n",
       "      <th>duration</th>\n",
       "      <th>date</th>\n",
       "      <th>month</th>\n",
       "      <th>minute_price</th>\n",
       "      <th>start_ride_price</th>\n",
       "      <th>subscription_fee</th>\n",
       "    </tr>\n",
       "  </thead>\n",
       "  <tbody>\n",
       "    <tr>\n",
       "      <th>0</th>\n",
       "      <td>1</td>\n",
       "      <td>Кира</td>\n",
       "      <td>22</td>\n",
       "      <td>Тюмень</td>\n",
       "      <td>ultra</td>\n",
       "      <td>4409.919140</td>\n",
       "      <td>25.599769</td>\n",
       "      <td>2021-01-01</td>\n",
       "      <td>1</td>\n",
       "      <td>6</td>\n",
       "      <td>0</td>\n",
       "      <td>199</td>\n",
       "    </tr>\n",
       "    <tr>\n",
       "      <th>1</th>\n",
       "      <td>1</td>\n",
       "      <td>Кира</td>\n",
       "      <td>22</td>\n",
       "      <td>Тюмень</td>\n",
       "      <td>ultra</td>\n",
       "      <td>2617.592153</td>\n",
       "      <td>15.816871</td>\n",
       "      <td>2021-01-18</td>\n",
       "      <td>1</td>\n",
       "      <td>6</td>\n",
       "      <td>0</td>\n",
       "      <td>199</td>\n",
       "    </tr>\n",
       "    <tr>\n",
       "      <th>2</th>\n",
       "      <td>1</td>\n",
       "      <td>Кира</td>\n",
       "      <td>22</td>\n",
       "      <td>Тюмень</td>\n",
       "      <td>ultra</td>\n",
       "      <td>754.159807</td>\n",
       "      <td>6.232113</td>\n",
       "      <td>2021-04-20</td>\n",
       "      <td>4</td>\n",
       "      <td>6</td>\n",
       "      <td>0</td>\n",
       "      <td>199</td>\n",
       "    </tr>\n",
       "    <tr>\n",
       "      <th>3</th>\n",
       "      <td>1</td>\n",
       "      <td>Кира</td>\n",
       "      <td>22</td>\n",
       "      <td>Тюмень</td>\n",
       "      <td>ultra</td>\n",
       "      <td>2694.783254</td>\n",
       "      <td>18.511000</td>\n",
       "      <td>2021-08-11</td>\n",
       "      <td>8</td>\n",
       "      <td>6</td>\n",
       "      <td>0</td>\n",
       "      <td>199</td>\n",
       "    </tr>\n",
       "    <tr>\n",
       "      <th>4</th>\n",
       "      <td>1</td>\n",
       "      <td>Кира</td>\n",
       "      <td>22</td>\n",
       "      <td>Тюмень</td>\n",
       "      <td>ultra</td>\n",
       "      <td>4028.687306</td>\n",
       "      <td>26.265803</td>\n",
       "      <td>2021-08-28</td>\n",
       "      <td>8</td>\n",
       "      <td>6</td>\n",
       "      <td>0</td>\n",
       "      <td>199</td>\n",
       "    </tr>\n",
       "    <tr>\n",
       "      <th>...</th>\n",
       "      <td>...</td>\n",
       "      <td>...</td>\n",
       "      <td>...</td>\n",
       "      <td>...</td>\n",
       "      <td>...</td>\n",
       "      <td>...</td>\n",
       "      <td>...</td>\n",
       "      <td>...</td>\n",
       "      <td>...</td>\n",
       "      <td>...</td>\n",
       "      <td>...</td>\n",
       "      <td>...</td>\n",
       "    </tr>\n",
       "    <tr>\n",
       "      <th>6495</th>\n",
       "      <td>699</td>\n",
       "      <td>Оксана</td>\n",
       "      <td>22</td>\n",
       "      <td>Москва</td>\n",
       "      <td>ultra</td>\n",
       "      <td>3973.046497</td>\n",
       "      <td>24.671163</td>\n",
       "      <td>2021-08-29</td>\n",
       "      <td>8</td>\n",
       "      <td>6</td>\n",
       "      <td>0</td>\n",
       "      <td>199</td>\n",
       "    </tr>\n",
       "    <tr>\n",
       "      <th>6496</th>\n",
       "      <td>699</td>\n",
       "      <td>Оксана</td>\n",
       "      <td>22</td>\n",
       "      <td>Москва</td>\n",
       "      <td>ultra</td>\n",
       "      <td>3288.702563</td>\n",
       "      <td>15.892886</td>\n",
       "      <td>2021-09-12</td>\n",
       "      <td>9</td>\n",
       "      <td>6</td>\n",
       "      <td>0</td>\n",
       "      <td>199</td>\n",
       "    </tr>\n",
       "    <tr>\n",
       "      <th>6497</th>\n",
       "      <td>699</td>\n",
       "      <td>Оксана</td>\n",
       "      <td>22</td>\n",
       "      <td>Москва</td>\n",
       "      <td>ultra</td>\n",
       "      <td>3076.159348</td>\n",
       "      <td>14.389525</td>\n",
       "      <td>2021-09-26</td>\n",
       "      <td>9</td>\n",
       "      <td>6</td>\n",
       "      <td>0</td>\n",
       "      <td>199</td>\n",
       "    </tr>\n",
       "    <tr>\n",
       "      <th>6498</th>\n",
       "      <td>699</td>\n",
       "      <td>Оксана</td>\n",
       "      <td>22</td>\n",
       "      <td>Москва</td>\n",
       "      <td>ultra</td>\n",
       "      <td>4707.845501</td>\n",
       "      <td>15.839579</td>\n",
       "      <td>2021-10-17</td>\n",
       "      <td>10</td>\n",
       "      <td>6</td>\n",
       "      <td>0</td>\n",
       "      <td>199</td>\n",
       "    </tr>\n",
       "    <tr>\n",
       "      <th>6499</th>\n",
       "      <td>699</td>\n",
       "      <td>Оксана</td>\n",
       "      <td>22</td>\n",
       "      <td>Москва</td>\n",
       "      <td>ultra</td>\n",
       "      <td>3202.890770</td>\n",
       "      <td>25.217345</td>\n",
       "      <td>2021-12-03</td>\n",
       "      <td>12</td>\n",
       "      <td>6</td>\n",
       "      <td>0</td>\n",
       "      <td>199</td>\n",
       "    </tr>\n",
       "  </tbody>\n",
       "</table>\n",
       "<p>6500 rows × 12 columns</p>\n",
       "</div>"
      ],
      "text/plain": [
       "      user_id    name  age    city subscription_type     distance   duration  \\\n",
       "0           1    Кира   22  Тюмень             ultra  4409.919140  25.599769   \n",
       "1           1    Кира   22  Тюмень             ultra  2617.592153  15.816871   \n",
       "2           1    Кира   22  Тюмень             ultra   754.159807   6.232113   \n",
       "3           1    Кира   22  Тюмень             ultra  2694.783254  18.511000   \n",
       "4           1    Кира   22  Тюмень             ultra  4028.687306  26.265803   \n",
       "...       ...     ...  ...     ...               ...          ...        ...   \n",
       "6495      699  Оксана   22  Москва             ultra  3973.046497  24.671163   \n",
       "6496      699  Оксана   22  Москва             ultra  3288.702563  15.892886   \n",
       "6497      699  Оксана   22  Москва             ultra  3076.159348  14.389525   \n",
       "6498      699  Оксана   22  Москва             ultra  4707.845501  15.839579   \n",
       "6499      699  Оксана   22  Москва             ultra  3202.890770  25.217345   \n",
       "\n",
       "           date  month  minute_price  start_ride_price  subscription_fee  \n",
       "0    2021-01-01      1             6                 0               199  \n",
       "1    2021-01-18      1             6                 0               199  \n",
       "2    2021-04-20      4             6                 0               199  \n",
       "3    2021-08-11      8             6                 0               199  \n",
       "4    2021-08-28      8             6                 0               199  \n",
       "...         ...    ...           ...               ...               ...  \n",
       "6495 2021-08-29      8             6                 0               199  \n",
       "6496 2021-09-12      9             6                 0               199  \n",
       "6497 2021-09-26      9             6                 0               199  \n",
       "6498 2021-10-17     10             6                 0               199  \n",
       "6499 2021-12-03     12             6                 0               199  \n",
       "\n",
       "[6500 rows x 12 columns]"
      ]
     },
     "metadata": {},
     "output_type": "display_data"
    }
   ],
   "source": [
    "#4.2\n",
    "data_free = data[data['subscription_type'] == 'free']\n",
    "display(data_free)\n",
    "\n",
    "data_ultra = data[data['subscription_type'] == 'ultra']\n",
    "display(data_ultra)"
   ]
  },
  {
   "cell_type": "code",
   "execution_count": 12,
   "id": "aadfc65e",
   "metadata": {},
   "outputs": [
    {
     "data": {
      "image/png": "[encoded data removed]",
      "text/plain": [
       "<Figure size 720x432 with 1 Axes>"
      ]
     },
     "metadata": {
      "needs_background": "light"
     },
     "output_type": "display_data"
    },
    {
     "name": "stdout",
     "output_type": "stream",
     "text": [
      "count    11568.000000\n",
      "mean      3045.495282\n",
      "std       1246.173806\n",
      "min          0.855683\n",
      "25%       2366.562689\n",
      "50%       3114.648465\n",
      "75%       3905.697894\n",
      "max       7211.007745\n",
      "Name: distance, dtype: float64\n",
      "count    6500.000000\n",
      "mean     3115.445388\n",
      "std       836.895330\n",
      "min       244.210438\n",
      "25%      2785.444017\n",
      "50%      3148.637229\n",
      "75%      3560.574425\n",
      "max      5699.769662\n",
      "Name: distance, dtype: float64\n"
     ]
    },
    {
     "data": {
      "image/png": "[encoded data removed]",
      "text/plain": [
       "<Figure size 720x432 with 1 Axes>"
      ]
     },
     "metadata": {
      "needs_background": "light"
     },
     "output_type": "display_data"
    },
    {
     "name": "stdout",
     "output_type": "stream",
     "text": [
      "count    11568.000000\n",
      "mean        17.390909\n",
      "std          6.326803\n",
      "min          0.500000\n",
      "25%         12.958437\n",
      "50%         17.326890\n",
      "75%         21.594071\n",
      "max         34.948498\n",
      "Name: duration, dtype: float64\n",
      "count    6500.000000\n",
      "mean       18.541985\n",
      "std         5.572048\n",
      "min         3.760353\n",
      "25%        14.524654\n",
      "50%        18.178153\n",
      "75%        21.884129\n",
      "max        40.823963\n",
      "Name: duration, dtype: float64\n"
     ]
    }
   ],
   "source": [
    "#4.3\n",
    "distance_free = data_free['distance']\n",
    "distance_ultra = data_ultra['distance']\n",
    "plt.figure(figsize=(10, 6))\n",
    "plt.hist(distance_free, bins=30)\n",
    "plt.hist(distance_ultra , bins=30)\n",
    "plt.title('Расстояние, которое пользователь преодолел за одну поездку')\n",
    "plt.xlabel('метры')\n",
    "plt.ylabel('Количество пользователей')\n",
    "plt.show()\n",
    "print(distance_free.describe())\n",
    "print(distance_ultra.describe())\n",
    "\n",
    "duration_free = data_free['duration']\n",
    "duration_ultra = data_ultra['duration']\n",
    "plt.figure(figsize=(10, 6))\n",
    "plt.hist(duration_free, bins=30)\n",
    "plt.hist(duration_ultra, bins=30)\n",
    "plt.title('Продолжительность поездок')\n",
    "plt.xlabel('минуты')\n",
    "plt.ylabel('Количество пользователей')\n",
    "plt.show()\n",
    "print(duration_free.describe())\n",
    "print(duration_ultra.describe())"
   ]
  },
  {
   "cell_type": "markdown",
   "id": "1f29e906",
   "metadata": {},
   "source": [
    "Вывод к шагу 4:\n",
    "- Обьеденили все данные\n",
    "- Разбили данные на две категории пользователей(с подпиской и без)\n",
    "- По построенным гистограмам можно сказать, что среднее значение дистанции и продолжительности поездок у пользователей с подпиской и без, мало различаются(~70м и ~1мин)."
   ]
  },
  {
   "cell_type": "markdown",
   "id": "402d620f",
   "metadata": {},
   "source": [
    "#### Шаг 5. Подсчёт выручки"
   ]
  },
  {
   "cell_type": "code",
   "execution_count": 13,
   "id": "53049e0a",
   "metadata": {},
   "outputs": [
    {
     "data": {
      "text/html": [
       "<div>\n",
       "<style scoped>\n",
       "    .dataframe tbody tr th:only-of-type {\n",
       "        vertical-align: middle;\n",
       "    }\n",
       "\n",
       "    .dataframe tbody tr th {\n",
       "        vertical-align: top;\n",
       "    }\n",
       "\n",
       "    .dataframe thead th {\n",
       "        text-align: right;\n",
       "    }\n",
       "</style>\n",
       "<table border=\"1\" class=\"dataframe\">\n",
       "  <thead>\n",
       "    <tr style=\"text-align: right;\">\n",
       "      <th></th>\n",
       "      <th>user_id</th>\n",
       "      <th>name</th>\n",
       "      <th>age</th>\n",
       "      <th>city</th>\n",
       "      <th>subscription_type</th>\n",
       "      <th>distance</th>\n",
       "      <th>duration</th>\n",
       "      <th>date</th>\n",
       "      <th>month</th>\n",
       "      <th>minute_price</th>\n",
       "      <th>start_ride_price</th>\n",
       "      <th>subscription_fee</th>\n",
       "    </tr>\n",
       "  </thead>\n",
       "  <tbody>\n",
       "    <tr>\n",
       "      <th>0</th>\n",
       "      <td>1</td>\n",
       "      <td>Кира</td>\n",
       "      <td>22</td>\n",
       "      <td>Тюмень</td>\n",
       "      <td>ultra</td>\n",
       "      <td>4409.919140</td>\n",
       "      <td>26</td>\n",
       "      <td>2021-01-01</td>\n",
       "      <td>1</td>\n",
       "      <td>6</td>\n",
       "      <td>0</td>\n",
       "      <td>199</td>\n",
       "    </tr>\n",
       "    <tr>\n",
       "      <th>1</th>\n",
       "      <td>1</td>\n",
       "      <td>Кира</td>\n",
       "      <td>22</td>\n",
       "      <td>Тюмень</td>\n",
       "      <td>ultra</td>\n",
       "      <td>2617.592153</td>\n",
       "      <td>16</td>\n",
       "      <td>2021-01-18</td>\n",
       "      <td>1</td>\n",
       "      <td>6</td>\n",
       "      <td>0</td>\n",
       "      <td>199</td>\n",
       "    </tr>\n",
       "    <tr>\n",
       "      <th>2</th>\n",
       "      <td>1</td>\n",
       "      <td>Кира</td>\n",
       "      <td>22</td>\n",
       "      <td>Тюмень</td>\n",
       "      <td>ultra</td>\n",
       "      <td>754.159807</td>\n",
       "      <td>7</td>\n",
       "      <td>2021-04-20</td>\n",
       "      <td>4</td>\n",
       "      <td>6</td>\n",
       "      <td>0</td>\n",
       "      <td>199</td>\n",
       "    </tr>\n",
       "    <tr>\n",
       "      <th>3</th>\n",
       "      <td>1</td>\n",
       "      <td>Кира</td>\n",
       "      <td>22</td>\n",
       "      <td>Тюмень</td>\n",
       "      <td>ultra</td>\n",
       "      <td>2694.783254</td>\n",
       "      <td>19</td>\n",
       "      <td>2021-08-11</td>\n",
       "      <td>8</td>\n",
       "      <td>6</td>\n",
       "      <td>0</td>\n",
       "      <td>199</td>\n",
       "    </tr>\n",
       "    <tr>\n",
       "      <th>4</th>\n",
       "      <td>1</td>\n",
       "      <td>Кира</td>\n",
       "      <td>22</td>\n",
       "      <td>Тюмень</td>\n",
       "      <td>ultra</td>\n",
       "      <td>4028.687306</td>\n",
       "      <td>27</td>\n",
       "      <td>2021-08-28</td>\n",
       "      <td>8</td>\n",
       "      <td>6</td>\n",
       "      <td>0</td>\n",
       "      <td>199</td>\n",
       "    </tr>\n",
       "    <tr>\n",
       "      <th>...</th>\n",
       "      <td>...</td>\n",
       "      <td>...</td>\n",
       "      <td>...</td>\n",
       "      <td>...</td>\n",
       "      <td>...</td>\n",
       "      <td>...</td>\n",
       "      <td>...</td>\n",
       "      <td>...</td>\n",
       "      <td>...</td>\n",
       "      <td>...</td>\n",
       "      <td>...</td>\n",
       "      <td>...</td>\n",
       "    </tr>\n",
       "    <tr>\n",
       "      <th>18063</th>\n",
       "      <td>1534</td>\n",
       "      <td>Альберт</td>\n",
       "      <td>25</td>\n",
       "      <td>Краснодар</td>\n",
       "      <td>free</td>\n",
       "      <td>3781.098080</td>\n",
       "      <td>20</td>\n",
       "      <td>2021-11-04</td>\n",
       "      <td>11</td>\n",
       "      <td>8</td>\n",
       "      <td>50</td>\n",
       "      <td>0</td>\n",
       "    </tr>\n",
       "    <tr>\n",
       "      <th>18064</th>\n",
       "      <td>1534</td>\n",
       "      <td>Альберт</td>\n",
       "      <td>25</td>\n",
       "      <td>Краснодар</td>\n",
       "      <td>free</td>\n",
       "      <td>2840.423057</td>\n",
       "      <td>22</td>\n",
       "      <td>2021-11-16</td>\n",
       "      <td>11</td>\n",
       "      <td>8</td>\n",
       "      <td>50</td>\n",
       "      <td>0</td>\n",
       "    </tr>\n",
       "    <tr>\n",
       "      <th>18065</th>\n",
       "      <td>1534</td>\n",
       "      <td>Альберт</td>\n",
       "      <td>25</td>\n",
       "      <td>Краснодар</td>\n",
       "      <td>free</td>\n",
       "      <td>3826.185507</td>\n",
       "      <td>19</td>\n",
       "      <td>2021-11-18</td>\n",
       "      <td>11</td>\n",
       "      <td>8</td>\n",
       "      <td>50</td>\n",
       "      <td>0</td>\n",
       "    </tr>\n",
       "    <tr>\n",
       "      <th>18066</th>\n",
       "      <td>1534</td>\n",
       "      <td>Альберт</td>\n",
       "      <td>25</td>\n",
       "      <td>Краснодар</td>\n",
       "      <td>free</td>\n",
       "      <td>2902.308661</td>\n",
       "      <td>17</td>\n",
       "      <td>2021-11-27</td>\n",
       "      <td>11</td>\n",
       "      <td>8</td>\n",
       "      <td>50</td>\n",
       "      <td>0</td>\n",
       "    </tr>\n",
       "    <tr>\n",
       "      <th>18067</th>\n",
       "      <td>1534</td>\n",
       "      <td>Альберт</td>\n",
       "      <td>25</td>\n",
       "      <td>Краснодар</td>\n",
       "      <td>free</td>\n",
       "      <td>2371.711192</td>\n",
       "      <td>16</td>\n",
       "      <td>2021-12-29</td>\n",
       "      <td>12</td>\n",
       "      <td>8</td>\n",
       "      <td>50</td>\n",
       "      <td>0</td>\n",
       "    </tr>\n",
       "  </tbody>\n",
       "</table>\n",
       "<p>18068 rows × 12 columns</p>\n",
       "</div>"
      ],
      "text/plain": [
       "       user_id     name  age       city subscription_type     distance  \\\n",
       "0            1     Кира   22     Тюмень             ultra  4409.919140   \n",
       "1            1     Кира   22     Тюмень             ultra  2617.592153   \n",
       "2            1     Кира   22     Тюмень             ultra   754.159807   \n",
       "3            1     Кира   22     Тюмень             ultra  2694.783254   \n",
       "4            1     Кира   22     Тюмень             ultra  4028.687306   \n",
       "...        ...      ...  ...        ...               ...          ...   \n",
       "18063     1534  Альберт   25  Краснодар              free  3781.098080   \n",
       "18064     1534  Альберт   25  Краснодар              free  2840.423057   \n",
       "18065     1534  Альберт   25  Краснодар              free  3826.185507   \n",
       "18066     1534  Альберт   25  Краснодар              free  2902.308661   \n",
       "18067     1534  Альберт   25  Краснодар              free  2371.711192   \n",
       "\n",
       "       duration       date  month  minute_price  start_ride_price  \\\n",
       "0            26 2021-01-01      1             6                 0   \n",
       "1            16 2021-01-18      1             6                 0   \n",
       "2             7 2021-04-20      4             6                 0   \n",
       "3            19 2021-08-11      8             6                 0   \n",
       "4            27 2021-08-28      8             6                 0   \n",
       "...         ...        ...    ...           ...               ...   \n",
       "18063        20 2021-11-04     11             8                50   \n",
       "18064        22 2021-11-16     11             8                50   \n",
       "18065        19 2021-11-18     11             8                50   \n",
       "18066        17 2021-11-27     11             8                50   \n",
       "18067        16 2021-12-29     12             8                50   \n",
       "\n",
       "       subscription_fee  \n",
       "0                   199  \n",
       "1                   199  \n",
       "2                   199  \n",
       "3                   199  \n",
       "4                   199  \n",
       "...                 ...  \n",
       "18063                 0  \n",
       "18064                 0  \n",
       "18065                 0  \n",
       "18066                 0  \n",
       "18067                 0  \n",
       "\n",
       "[18068 rows x 12 columns]"
      ]
     },
     "metadata": {},
     "output_type": "display_data"
    },
    {
     "data": {
      "text/html": [
       "<div>\n",
       "<style scoped>\n",
       "    .dataframe tbody tr th:only-of-type {\n",
       "        vertical-align: middle;\n",
       "    }\n",
       "\n",
       "    .dataframe tbody tr th {\n",
       "        vertical-align: top;\n",
       "    }\n",
       "\n",
       "    .dataframe thead th {\n",
       "        text-align: right;\n",
       "    }\n",
       "</style>\n",
       "<table border=\"1\" class=\"dataframe\">\n",
       "  <thead>\n",
       "    <tr style=\"text-align: right;\">\n",
       "      <th></th>\n",
       "      <th>user_id</th>\n",
       "      <th>month</th>\n",
       "      <th>count_distance</th>\n",
       "      <th>sum_distance</th>\n",
       "      <th>sum_duration</th>\n",
       "    </tr>\n",
       "  </thead>\n",
       "  <tbody>\n",
       "    <tr>\n",
       "      <th>0</th>\n",
       "      <td>1</td>\n",
       "      <td>1</td>\n",
       "      <td>2</td>\n",
       "      <td>7027.511294</td>\n",
       "      <td>42</td>\n",
       "    </tr>\n",
       "    <tr>\n",
       "      <th>1</th>\n",
       "      <td>1</td>\n",
       "      <td>4</td>\n",
       "      <td>1</td>\n",
       "      <td>754.159807</td>\n",
       "      <td>7</td>\n",
       "    </tr>\n",
       "    <tr>\n",
       "      <th>2</th>\n",
       "      <td>1</td>\n",
       "      <td>8</td>\n",
       "      <td>2</td>\n",
       "      <td>6723.470560</td>\n",
       "      <td>46</td>\n",
       "    </tr>\n",
       "    <tr>\n",
       "      <th>3</th>\n",
       "      <td>1</td>\n",
       "      <td>10</td>\n",
       "      <td>2</td>\n",
       "      <td>5809.911100</td>\n",
       "      <td>32</td>\n",
       "    </tr>\n",
       "    <tr>\n",
       "      <th>4</th>\n",
       "      <td>1</td>\n",
       "      <td>11</td>\n",
       "      <td>3</td>\n",
       "      <td>7003.499363</td>\n",
       "      <td>56</td>\n",
       "    </tr>\n",
       "    <tr>\n",
       "      <th>...</th>\n",
       "      <td>...</td>\n",
       "      <td>...</td>\n",
       "      <td>...</td>\n",
       "      <td>...</td>\n",
       "      <td>...</td>\n",
       "    </tr>\n",
       "    <tr>\n",
       "      <th>11326</th>\n",
       "      <td>1534</td>\n",
       "      <td>6</td>\n",
       "      <td>2</td>\n",
       "      <td>3409.468534</td>\n",
       "      <td>26</td>\n",
       "    </tr>\n",
       "    <tr>\n",
       "      <th>11327</th>\n",
       "      <td>1534</td>\n",
       "      <td>8</td>\n",
       "      <td>2</td>\n",
       "      <td>7622.453034</td>\n",
       "      <td>48</td>\n",
       "    </tr>\n",
       "    <tr>\n",
       "      <th>11328</th>\n",
       "      <td>1534</td>\n",
       "      <td>9</td>\n",
       "      <td>1</td>\n",
       "      <td>4928.173852</td>\n",
       "      <td>23</td>\n",
       "    </tr>\n",
       "    <tr>\n",
       "      <th>11329</th>\n",
       "      <td>1534</td>\n",
       "      <td>11</td>\n",
       "      <td>4</td>\n",
       "      <td>13350.015305</td>\n",
       "      <td>78</td>\n",
       "    </tr>\n",
       "    <tr>\n",
       "      <th>11330</th>\n",
       "      <td>1534</td>\n",
       "      <td>12</td>\n",
       "      <td>1</td>\n",
       "      <td>2371.711192</td>\n",
       "      <td>16</td>\n",
       "    </tr>\n",
       "  </tbody>\n",
       "</table>\n",
       "<p>11331 rows × 5 columns</p>\n",
       "</div>"
      ],
      "text/plain": [
       "       user_id  month  count_distance  sum_distance  sum_duration\n",
       "0            1      1               2   7027.511294            42\n",
       "1            1      4               1    754.159807             7\n",
       "2            1      8               2   6723.470560            46\n",
       "3            1     10               2   5809.911100            32\n",
       "4            1     11               3   7003.499363            56\n",
       "...        ...    ...             ...           ...           ...\n",
       "11326     1534      6               2   3409.468534            26\n",
       "11327     1534      8               2   7622.453034            48\n",
       "11328     1534      9               1   4928.173852            23\n",
       "11329     1534     11               4  13350.015305            78\n",
       "11330     1534     12               1   2371.711192            16\n",
       "\n",
       "[11331 rows x 5 columns]"
      ]
     },
     "metadata": {},
     "output_type": "display_data"
    }
   ],
   "source": [
    "#5.1\n",
    "# каждое значение из столбца duration округляется с помощью «потолка»: \n",
    "data['duration'] = np.ceil(data['duration'])\n",
    "data['duration'] = data['duration'].astype('int')\n",
    "display(data)\n",
    "data_sum = data.pivot_table(index=['user_id', 'month'], values=['distance', 'duration'], aggfunc = ['count', 'sum'])\n",
    "data_sum.drop(data_sum.columns[1], axis= 1 , inplace= True )\n",
    "data_sum.columns = ['count_distance', 'sum_distance', 'sum_duration']\n",
    "data_sum = data_sum.reset_index()\n",
    "display(data_sum)"
   ]
  },
  {
   "cell_type": "code",
   "execution_count": 14,
   "id": "182602fc",
   "metadata": {
    "scrolled": false
   },
   "outputs": [
    {
     "data": {
      "text/html": [
       "<div>\n",
       "<style scoped>\n",
       "    .dataframe tbody tr th:only-of-type {\n",
       "        vertical-align: middle;\n",
       "    }\n",
       "\n",
       "    .dataframe tbody tr th {\n",
       "        vertical-align: top;\n",
       "    }\n",
       "\n",
       "    .dataframe thead th {\n",
       "        text-align: right;\n",
       "    }\n",
       "</style>\n",
       "<table border=\"1\" class=\"dataframe\">\n",
       "  <thead>\n",
       "    <tr style=\"text-align: right;\">\n",
       "      <th></th>\n",
       "      <th>user_id</th>\n",
       "      <th>month</th>\n",
       "      <th>count_distance</th>\n",
       "      <th>sum_distance</th>\n",
       "      <th>sum_duration</th>\n",
       "      <th>name</th>\n",
       "      <th>age</th>\n",
       "      <th>city</th>\n",
       "      <th>subscription_type</th>\n",
       "      <th>minute_price</th>\n",
       "      <th>start_ride_price</th>\n",
       "      <th>subscription_fee</th>\n",
       "      <th>revenue</th>\n",
       "    </tr>\n",
       "  </thead>\n",
       "  <tbody>\n",
       "    <tr>\n",
       "      <th>0</th>\n",
       "      <td>1</td>\n",
       "      <td>1</td>\n",
       "      <td>2</td>\n",
       "      <td>7027.511294</td>\n",
       "      <td>42</td>\n",
       "      <td>Кира</td>\n",
       "      <td>22</td>\n",
       "      <td>Тюмень</td>\n",
       "      <td>ultra</td>\n",
       "      <td>6</td>\n",
       "      <td>0</td>\n",
       "      <td>199</td>\n",
       "      <td>451</td>\n",
       "    </tr>\n",
       "    <tr>\n",
       "      <th>1</th>\n",
       "      <td>1</td>\n",
       "      <td>4</td>\n",
       "      <td>1</td>\n",
       "      <td>754.159807</td>\n",
       "      <td>7</td>\n",
       "      <td>Кира</td>\n",
       "      <td>22</td>\n",
       "      <td>Тюмень</td>\n",
       "      <td>ultra</td>\n",
       "      <td>6</td>\n",
       "      <td>0</td>\n",
       "      <td>199</td>\n",
       "      <td>241</td>\n",
       "    </tr>\n",
       "    <tr>\n",
       "      <th>2</th>\n",
       "      <td>1</td>\n",
       "      <td>8</td>\n",
       "      <td>2</td>\n",
       "      <td>6723.470560</td>\n",
       "      <td>46</td>\n",
       "      <td>Кира</td>\n",
       "      <td>22</td>\n",
       "      <td>Тюмень</td>\n",
       "      <td>ultra</td>\n",
       "      <td>6</td>\n",
       "      <td>0</td>\n",
       "      <td>199</td>\n",
       "      <td>475</td>\n",
       "    </tr>\n",
       "    <tr>\n",
       "      <th>3</th>\n",
       "      <td>1</td>\n",
       "      <td>10</td>\n",
       "      <td>2</td>\n",
       "      <td>5809.911100</td>\n",
       "      <td>32</td>\n",
       "      <td>Кира</td>\n",
       "      <td>22</td>\n",
       "      <td>Тюмень</td>\n",
       "      <td>ultra</td>\n",
       "      <td>6</td>\n",
       "      <td>0</td>\n",
       "      <td>199</td>\n",
       "      <td>391</td>\n",
       "    </tr>\n",
       "    <tr>\n",
       "      <th>4</th>\n",
       "      <td>1</td>\n",
       "      <td>11</td>\n",
       "      <td>3</td>\n",
       "      <td>7003.499363</td>\n",
       "      <td>56</td>\n",
       "      <td>Кира</td>\n",
       "      <td>22</td>\n",
       "      <td>Тюмень</td>\n",
       "      <td>ultra</td>\n",
       "      <td>6</td>\n",
       "      <td>0</td>\n",
       "      <td>199</td>\n",
       "      <td>535</td>\n",
       "    </tr>\n",
       "    <tr>\n",
       "      <th>...</th>\n",
       "      <td>...</td>\n",
       "      <td>...</td>\n",
       "      <td>...</td>\n",
       "      <td>...</td>\n",
       "      <td>...</td>\n",
       "      <td>...</td>\n",
       "      <td>...</td>\n",
       "      <td>...</td>\n",
       "      <td>...</td>\n",
       "      <td>...</td>\n",
       "      <td>...</td>\n",
       "      <td>...</td>\n",
       "      <td>...</td>\n",
       "    </tr>\n",
       "    <tr>\n",
       "      <th>11326</th>\n",
       "      <td>1534</td>\n",
       "      <td>6</td>\n",
       "      <td>2</td>\n",
       "      <td>3409.468534</td>\n",
       "      <td>26</td>\n",
       "      <td>Альберт</td>\n",
       "      <td>25</td>\n",
       "      <td>Краснодар</td>\n",
       "      <td>free</td>\n",
       "      <td>8</td>\n",
       "      <td>50</td>\n",
       "      <td>0</td>\n",
       "      <td>308</td>\n",
       "    </tr>\n",
       "    <tr>\n",
       "      <th>11327</th>\n",
       "      <td>1534</td>\n",
       "      <td>8</td>\n",
       "      <td>2</td>\n",
       "      <td>7622.453034</td>\n",
       "      <td>48</td>\n",
       "      <td>Альберт</td>\n",
       "      <td>25</td>\n",
       "      <td>Краснодар</td>\n",
       "      <td>free</td>\n",
       "      <td>8</td>\n",
       "      <td>50</td>\n",
       "      <td>0</td>\n",
       "      <td>484</td>\n",
       "    </tr>\n",
       "    <tr>\n",
       "      <th>11328</th>\n",
       "      <td>1534</td>\n",
       "      <td>9</td>\n",
       "      <td>1</td>\n",
       "      <td>4928.173852</td>\n",
       "      <td>23</td>\n",
       "      <td>Альберт</td>\n",
       "      <td>25</td>\n",
       "      <td>Краснодар</td>\n",
       "      <td>free</td>\n",
       "      <td>8</td>\n",
       "      <td>50</td>\n",
       "      <td>0</td>\n",
       "      <td>234</td>\n",
       "    </tr>\n",
       "    <tr>\n",
       "      <th>11329</th>\n",
       "      <td>1534</td>\n",
       "      <td>11</td>\n",
       "      <td>4</td>\n",
       "      <td>13350.015305</td>\n",
       "      <td>78</td>\n",
       "      <td>Альберт</td>\n",
       "      <td>25</td>\n",
       "      <td>Краснодар</td>\n",
       "      <td>free</td>\n",
       "      <td>8</td>\n",
       "      <td>50</td>\n",
       "      <td>0</td>\n",
       "      <td>824</td>\n",
       "    </tr>\n",
       "    <tr>\n",
       "      <th>11330</th>\n",
       "      <td>1534</td>\n",
       "      <td>12</td>\n",
       "      <td>1</td>\n",
       "      <td>2371.711192</td>\n",
       "      <td>16</td>\n",
       "      <td>Альберт</td>\n",
       "      <td>25</td>\n",
       "      <td>Краснодар</td>\n",
       "      <td>free</td>\n",
       "      <td>8</td>\n",
       "      <td>50</td>\n",
       "      <td>0</td>\n",
       "      <td>178</td>\n",
       "    </tr>\n",
       "  </tbody>\n",
       "</table>\n",
       "<p>11331 rows × 13 columns</p>\n",
       "</div>"
      ],
      "text/plain": [
       "       user_id  month  count_distance  sum_distance  sum_duration     name  \\\n",
       "0            1      1               2   7027.511294            42     Кира   \n",
       "1            1      4               1    754.159807             7     Кира   \n",
       "2            1      8               2   6723.470560            46     Кира   \n",
       "3            1     10               2   5809.911100            32     Кира   \n",
       "4            1     11               3   7003.499363            56     Кира   \n",
       "...        ...    ...             ...           ...           ...      ...   \n",
       "11326     1534      6               2   3409.468534            26  Альберт   \n",
       "11327     1534      8               2   7622.453034            48  Альберт   \n",
       "11328     1534      9               1   4928.173852            23  Альберт   \n",
       "11329     1534     11               4  13350.015305            78  Альберт   \n",
       "11330     1534     12               1   2371.711192            16  Альберт   \n",
       "\n",
       "       age       city subscription_type  minute_price  start_ride_price  \\\n",
       "0       22     Тюмень             ultra             6                 0   \n",
       "1       22     Тюмень             ultra             6                 0   \n",
       "2       22     Тюмень             ultra             6                 0   \n",
       "3       22     Тюмень             ultra             6                 0   \n",
       "4       22     Тюмень             ultra             6                 0   \n",
       "...    ...        ...               ...           ...               ...   \n",
       "11326   25  Краснодар              free             8                50   \n",
       "11327   25  Краснодар              free             8                50   \n",
       "11328   25  Краснодар              free             8                50   \n",
       "11329   25  Краснодар              free             8                50   \n",
       "11330   25  Краснодар              free             8                50   \n",
       "\n",
       "       subscription_fee  revenue  \n",
       "0                   199      451  \n",
       "1                   199      241  \n",
       "2                   199      475  \n",
       "3                   199      391  \n",
       "4                   199      535  \n",
       "...                 ...      ...  \n",
       "11326                 0      308  \n",
       "11327                 0      484  \n",
       "11328                 0      234  \n",
       "11329                 0      824  \n",
       "11330                 0      178  \n",
       "\n",
       "[11331 rows x 13 columns]"
      ]
     },
     "metadata": {},
     "output_type": "display_data"
    },
    {
     "data": {
      "text/html": [
       "<div>\n",
       "<style scoped>\n",
       "    .dataframe tbody tr th:only-of-type {\n",
       "        vertical-align: middle;\n",
       "    }\n",
       "\n",
       "    .dataframe tbody tr th {\n",
       "        vertical-align: top;\n",
       "    }\n",
       "\n",
       "    .dataframe thead th {\n",
       "        text-align: right;\n",
       "    }\n",
       "</style>\n",
       "<table border=\"1\" class=\"dataframe\">\n",
       "  <thead>\n",
       "    <tr style=\"text-align: right;\">\n",
       "      <th></th>\n",
       "      <th>user_id</th>\n",
       "      <th>month</th>\n",
       "      <th>count_distance</th>\n",
       "      <th>sum_distance</th>\n",
       "      <th>sum_duration</th>\n",
       "      <th>revenue</th>\n",
       "    </tr>\n",
       "  </thead>\n",
       "  <tbody>\n",
       "    <tr>\n",
       "      <th>0</th>\n",
       "      <td>1</td>\n",
       "      <td>1</td>\n",
       "      <td>2</td>\n",
       "      <td>7027.511294</td>\n",
       "      <td>42</td>\n",
       "      <td>451</td>\n",
       "    </tr>\n",
       "    <tr>\n",
       "      <th>1</th>\n",
       "      <td>1</td>\n",
       "      <td>4</td>\n",
       "      <td>1</td>\n",
       "      <td>754.159807</td>\n",
       "      <td>7</td>\n",
       "      <td>241</td>\n",
       "    </tr>\n",
       "    <tr>\n",
       "      <th>2</th>\n",
       "      <td>1</td>\n",
       "      <td>8</td>\n",
       "      <td>2</td>\n",
       "      <td>6723.470560</td>\n",
       "      <td>46</td>\n",
       "      <td>475</td>\n",
       "    </tr>\n",
       "    <tr>\n",
       "      <th>3</th>\n",
       "      <td>1</td>\n",
       "      <td>10</td>\n",
       "      <td>2</td>\n",
       "      <td>5809.911100</td>\n",
       "      <td>32</td>\n",
       "      <td>391</td>\n",
       "    </tr>\n",
       "    <tr>\n",
       "      <th>4</th>\n",
       "      <td>1</td>\n",
       "      <td>11</td>\n",
       "      <td>3</td>\n",
       "      <td>7003.499363</td>\n",
       "      <td>56</td>\n",
       "      <td>535</td>\n",
       "    </tr>\n",
       "    <tr>\n",
       "      <th>...</th>\n",
       "      <td>...</td>\n",
       "      <td>...</td>\n",
       "      <td>...</td>\n",
       "      <td>...</td>\n",
       "      <td>...</td>\n",
       "      <td>...</td>\n",
       "    </tr>\n",
       "    <tr>\n",
       "      <th>11326</th>\n",
       "      <td>1534</td>\n",
       "      <td>6</td>\n",
       "      <td>2</td>\n",
       "      <td>3409.468534</td>\n",
       "      <td>26</td>\n",
       "      <td>308</td>\n",
       "    </tr>\n",
       "    <tr>\n",
       "      <th>11327</th>\n",
       "      <td>1534</td>\n",
       "      <td>8</td>\n",
       "      <td>2</td>\n",
       "      <td>7622.453034</td>\n",
       "      <td>48</td>\n",
       "      <td>484</td>\n",
       "    </tr>\n",
       "    <tr>\n",
       "      <th>11328</th>\n",
       "      <td>1534</td>\n",
       "      <td>9</td>\n",
       "      <td>1</td>\n",
       "      <td>4928.173852</td>\n",
       "      <td>23</td>\n",
       "      <td>234</td>\n",
       "    </tr>\n",
       "    <tr>\n",
       "      <th>11329</th>\n",
       "      <td>1534</td>\n",
       "      <td>11</td>\n",
       "      <td>4</td>\n",
       "      <td>13350.015305</td>\n",
       "      <td>78</td>\n",
       "      <td>824</td>\n",
       "    </tr>\n",
       "    <tr>\n",
       "      <th>11330</th>\n",
       "      <td>1534</td>\n",
       "      <td>12</td>\n",
       "      <td>1</td>\n",
       "      <td>2371.711192</td>\n",
       "      <td>16</td>\n",
       "      <td>178</td>\n",
       "    </tr>\n",
       "  </tbody>\n",
       "</table>\n",
       "<p>11331 rows × 6 columns</p>\n",
       "</div>"
      ],
      "text/plain": [
       "       user_id  month  count_distance  sum_distance  sum_duration  revenue\n",
       "0            1      1               2   7027.511294            42      451\n",
       "1            1      4               1    754.159807             7      241\n",
       "2            1      8               2   6723.470560            46      475\n",
       "3            1     10               2   5809.911100            32      391\n",
       "4            1     11               3   7003.499363            56      535\n",
       "...        ...    ...             ...           ...           ...      ...\n",
       "11326     1534      6               2   3409.468534            26      308\n",
       "11327     1534      8               2   7622.453034            48      484\n",
       "11328     1534      9               1   4928.173852            23      234\n",
       "11329     1534     11               4  13350.015305            78      824\n",
       "11330     1534     12               1   2371.711192            16      178\n",
       "\n",
       "[11331 rows x 6 columns]"
      ]
     },
     "metadata": {},
     "output_type": "display_data"
    },
    {
     "name": "stdout",
     "output_type": "stream",
     "text": [
      "328.6413651073845 362.7921906022502\n"
     ]
    }
   ],
   "source": [
    "#5.2\n",
    "data_final = data_sum.merge(data_users, how='left', on='user_id')\n",
    "data_final = data_final.merge(data_subscriptions, how='left', on='subscription_type')\n",
    "\n",
    "# исправляю расчеты помесячной выручки\n",
    "def revenue(row):\n",
    "  revenue = 0\n",
    "  revenue = (row['start_ride_price'] * row['count_distance'] + row['minute_price'] * row['sum_duration'] + row['subscription_fee'])\n",
    "    \n",
    "  return revenue\n",
    "\n",
    "data_final['revenue'] = data_final.apply(revenue, axis=1)\n",
    "data_sum['revenue'] = data_final['revenue']\n",
    "display(data_final)\n",
    "display(data_sum)\n",
    "\n",
    "\n",
    "# предыдущий неправельный код \n",
    "# data_final['revenue'] = data_final['start_ride_price'] * data_final['count_distance'] + data_final['minute_price'] * data_final['sum_duration'] + data['subscription_fee']\n",
    "# data_sum['revenue'] = data_final['revenue']\n",
    "# #data_final = data_final.drop(columns='revenue')\n",
    "# display(data_sum)\n",
    "# display(data_final)\n",
    "\n",
    "free_mean = data_final[data_final['subscription_type'] == 'free']['revenue'].mean()\n",
    "ultra_mean = data_final[data_final['subscription_type'] == 'ultra']['revenue'].mean()\n",
    "print(free_mean, ultra_mean)"
   ]
  },
  {
   "cell_type": "markdown",
   "id": "0d10c7e4",
   "metadata": {},
   "source": [
    "Вывод к шагу 5:\n",
    "- Посчитано суммарное расстояние, количество поездок и суммарное время для каждого пользователя за каждый месяц.\n",
    "- Посчитана помесячная выручка, которую принёс каждый пользователь.\n",
    "- Сформирована сводная таблица(count_distance - количество поездок, sum_distance - суммарное расстояние за месяц, sum_duration - суммарная продолжительность поездки, revenue - выручка ежемесяная с каждого пользователя)."
   ]
  },
  {
   "cell_type": "markdown",
   "id": "41545ac0",
   "metadata": {},
   "source": [
    "#### Шаг 6. Проверка гипотез"
   ]
  },
  {
   "cell_type": "markdown",
   "id": "a2f385c8",
   "metadata": {},
   "source": [
    "В Python есть специальный метод для проверки гипотезы о равенстве среднего двух генеральных совокупностей по взятым из них выборкам: scipy.stats.ttest_ind(array1, array2, equal_var, alternative).-(Спринт 7/23 → Тема 7/9: Проверка гипотез → Урок 11/14)"
   ]
  },
  {
   "cell_type": "markdown",
   "id": "806ce94d",
   "metadata": {},
   "source": [
    "Нулевая гипотеза - средняя продолжительность поездок у пользователей с подпиской и без одинокавы\n",
    "\n",
    "Альтернативная гипотеза - пользователи с подпиской тратят больше времени на поездки"
   ]
  },
  {
   "cell_type": "code",
   "execution_count": 15,
   "id": "23ea867b",
   "metadata": {},
   "outputs": [
    {
     "name": "stdout",
     "output_type": "stream",
     "text": [
      "p-значение: 1.2804098316645618e-34\n",
      "Отвергаем нулевую гипотезу\n"
     ]
    }
   ],
   "source": [
    "#6.1\n",
    "alpha = 0.05 # уровень статистической значимости\n",
    "# если p-value окажется меньше него, отвергнем гипотезу\n",
    "\n",
    "# вообще используем alternative = 'greater', потому что, Аргумент 'greater' может использоваться для проверки \n",
    "# альтернативной гипотезы «Среднее значение первой генеральной совокупности больше среднего значения второй генеральной совокупности».\n",
    "# (Спринт 7/23 → Тема 7/9: Проверка гипотез → Урок 11/14)\n",
    "results = st.ttest_ind(data_ultra['duration'], data_free['duration'], alternative = 'greater')\n",
    "\n",
    "print('p-значение:', results.pvalue)\n",
    "\n",
    "if results.pvalue < alpha:\n",
    "    print('Отвергаем нулевую гипотезу')\n",
    "else:\n",
    "    print('Не получилось отвергнуть нулевую гипотезу') "
   ]
  },
  {
   "cell_type": "markdown",
   "id": "5f974941",
   "metadata": {},
   "source": [
    "Первый вывод: пользователи с подпиской тратят больше времени на поездки, следовательно, пользователи с подпиской могут быть «выгоднее» для компании."
   ]
  },
  {
   "cell_type": "markdown",
   "id": "dd592eb0",
   "metadata": {},
   "source": [
    "ГИПОТЕЗЫ ДО ИСПРАВЛЕНИЯ\n",
    "\n",
    "Нулевая гипотеза - среднее расстояние, которое проезжают пользователи с подпиской за одну поездку составлет 3130 метров\n",
    "\n",
    "Альтернативная гипотеза - среднее расстояние, которое проезжают пользователи с подпиской за одну поездку, меньше\n",
    "3130 метров\n",
    "\n",
    "\n",
    "ГИПОТЕЗЫ ПОСЛЕ ИСПРАВЛЕНИЯ\n",
    "\n",
    "Нулевая гипотеза - Среднее расстояние поездок пользователей с подпиской 'ultra' (меньше или равна) <=3130 м\n",
    "\n",
    "Альтернативная гипотеза - Среднее расстояние поездок с использованием подписки 'ultra' более 3130 метров"
   ]
  },
  {
   "cell_type": "code",
   "execution_count": 16,
   "id": "d525396c",
   "metadata": {},
   "outputs": [
    {
     "name": "stdout",
     "output_type": "stream",
     "text": [
      "p-значение: 0.9195368847849785\n",
      "Не получилось отвергнуть нулевую гипотезу\n"
     ]
    }
   ],
   "source": [
    "#6.2\n",
    "interested_value = 3130\n",
    "\n",
    "alpha = 0.05 # уровень статистической значимости\n",
    "            # можно указать .05 или 0.05\n",
    "#для проверки двусторонней гипотезы о равенстве среднего генеральной совокупности\n",
    "# некоторому значению используют метод scipy.stats.ttest_1samp(a, popmean, alternative).\n",
    "\n",
    "# изменила параметр с less на greater\n",
    "results = st.ttest_1samp(\n",
    "   data_ultra['distance'], \n",
    "    interested_value, alternative='greater')\n",
    "\n",
    "print('p-значение:', results.pvalue)\n",
    "\n",
    "if results.pvalue < alpha:\n",
    "    print('Отвергаем нулевую гипотезу')\n",
    "else:\n",
    "    print('Не получилось отвергнуть нулевую гипотезу')"
   ]
  },
  {
   "cell_type": "markdown",
   "id": "01ba6806",
   "metadata": {},
   "source": [
    "Второй вывод: Опровергнуть нулевую гипотезу не удалось, значит, среднее расстояние поездок с использованием подписки ‘ultra’ (меньше или) равно 3130 метров."
   ]
  },
  {
   "cell_type": "markdown",
   "id": "b2978c85",
   "metadata": {},
   "source": [
    "Нулевая гипотеза -  помесячная выручка от пользователей с подпиской по месяцам и выручка от пользователей без подписки одинаковы\n",
    "\n",
    "Альтернативная гипотеза -  помесячная выручка от пользователей с подпиской по месяцам выше, чем выручка от пользователей без подписки"
   ]
  },
  {
   "cell_type": "code",
   "execution_count": 17,
   "id": "5f0c2c64",
   "metadata": {},
   "outputs": [
    {
     "data": {
      "text/html": [
       "<div>\n",
       "<style scoped>\n",
       "    .dataframe tbody tr th:only-of-type {\n",
       "        vertical-align: middle;\n",
       "    }\n",
       "\n",
       "    .dataframe tbody tr th {\n",
       "        vertical-align: top;\n",
       "    }\n",
       "\n",
       "    .dataframe thead th {\n",
       "        text-align: right;\n",
       "    }\n",
       "</style>\n",
       "<table border=\"1\" class=\"dataframe\">\n",
       "  <thead>\n",
       "    <tr style=\"text-align: right;\">\n",
       "      <th></th>\n",
       "      <th>user_id</th>\n",
       "      <th>subscription_type</th>\n",
       "      <th>revenue</th>\n",
       "    </tr>\n",
       "  </thead>\n",
       "  <tbody>\n",
       "    <tr>\n",
       "      <th>0</th>\n",
       "      <td>1</td>\n",
       "      <td>ultra</td>\n",
       "      <td>451</td>\n",
       "    </tr>\n",
       "    <tr>\n",
       "      <th>1</th>\n",
       "      <td>1</td>\n",
       "      <td>ultra</td>\n",
       "      <td>241</td>\n",
       "    </tr>\n",
       "    <tr>\n",
       "      <th>2</th>\n",
       "      <td>1</td>\n",
       "      <td>ultra</td>\n",
       "      <td>475</td>\n",
       "    </tr>\n",
       "    <tr>\n",
       "      <th>3</th>\n",
       "      <td>1</td>\n",
       "      <td>ultra</td>\n",
       "      <td>391</td>\n",
       "    </tr>\n",
       "    <tr>\n",
       "      <th>4</th>\n",
       "      <td>1</td>\n",
       "      <td>ultra</td>\n",
       "      <td>535</td>\n",
       "    </tr>\n",
       "    <tr>\n",
       "      <th>...</th>\n",
       "      <td>...</td>\n",
       "      <td>...</td>\n",
       "      <td>...</td>\n",
       "    </tr>\n",
       "    <tr>\n",
       "      <th>11326</th>\n",
       "      <td>1534</td>\n",
       "      <td>free</td>\n",
       "      <td>308</td>\n",
       "    </tr>\n",
       "    <tr>\n",
       "      <th>11327</th>\n",
       "      <td>1534</td>\n",
       "      <td>free</td>\n",
       "      <td>484</td>\n",
       "    </tr>\n",
       "    <tr>\n",
       "      <th>11328</th>\n",
       "      <td>1534</td>\n",
       "      <td>free</td>\n",
       "      <td>234</td>\n",
       "    </tr>\n",
       "    <tr>\n",
       "      <th>11329</th>\n",
       "      <td>1534</td>\n",
       "      <td>free</td>\n",
       "      <td>824</td>\n",
       "    </tr>\n",
       "    <tr>\n",
       "      <th>11330</th>\n",
       "      <td>1534</td>\n",
       "      <td>free</td>\n",
       "      <td>178</td>\n",
       "    </tr>\n",
       "  </tbody>\n",
       "</table>\n",
       "<p>11331 rows × 3 columns</p>\n",
       "</div>"
      ],
      "text/plain": [
       "       user_id subscription_type  revenue\n",
       "0            1             ultra      451\n",
       "1            1             ultra      241\n",
       "2            1             ultra      475\n",
       "3            1             ultra      391\n",
       "4            1             ultra      535\n",
       "...        ...               ...      ...\n",
       "11326     1534              free      308\n",
       "11327     1534              free      484\n",
       "11328     1534              free      234\n",
       "11329     1534              free      824\n",
       "11330     1534              free      178\n",
       "\n",
       "[11331 rows x 3 columns]"
      ]
     },
     "metadata": {},
     "output_type": "display_data"
    },
    {
     "name": "stdout",
     "output_type": "stream",
     "text": [
      "p-значение: 1.8850394384715216e-31\n",
      "Отвергаем нулевую гипотезу\n",
      "Выручка от пользователей с подпиской -  362.79\n",
      "Выручка от пользователей без подписки -  328.64\n"
     ]
    }
   ],
   "source": [
    "#6.3\n",
    "display(data_final[['user_id', 'subscription_type', 'revenue']])\n",
    "alpha = 0.05 # уровень статистической значимости\n",
    "# если p-value окажется меньше него, отвергнем гипотезу\n",
    "\n",
    "free = data_final[data_final['subscription_type'] == 'free']\n",
    "ultra = data_final[data_final['subscription_type'] == 'ultra']\n",
    "\n",
    "results = st.ttest_ind(ultra['revenue'], free['revenue'], alternative='greater')\n",
    "\n",
    "print('p-значение:', results.pvalue)\n",
    "\n",
    "if results.pvalue < alpha:\n",
    "    print('Отвергаем нулевую гипотезу')\n",
    "else:\n",
    "    print('Не получилось отвергнуть нулевую гипотезу') \n",
    "    \n",
    "print('Выручка от пользователей с подпиской - ', round(ultra['revenue'].mean(),2))\n",
    "print('Выручка от пользователей без подписки - ', round(free['revenue'].mean(),2))"
   ]
  },
  {
   "cell_type": "markdown",
   "id": "08b883e2",
   "metadata": {},
   "source": [
    "Третий вывод: УРААА, нулевая гипотеза отвергнута, а значит можно говорить о том, что помесячная выручка от пользователя с подпиской больше, чем у пользователя без подписки."
   ]
  },
  {
   "cell_type": "markdown",
   "id": "0757cc8a",
   "metadata": {},
   "source": [
    "Ответ на шаг 6.4\n",
    "Нам нужно проверить гипотезу, анализируя одну генеральную совокупность, с которой произошли некоторые изменения. В этом случае мы будем проверять, равны ли средние совокупности до и после этого изменения.\n",
    "Следовательно сюда нам понадобился бы для проверки этой гипотезы, тест (scipy.stats.ttest_rel()) проверки Гипотезы о равенстве средних для зависимых (парных) выборок."
   ]
  },
  {
   "cell_type": "markdown",
   "id": "a54af929",
   "metadata": {},
   "source": [
    "Общий вывод:\n",
    "Первым шагом были выгружены и проверены на целостность данные, с которыми проводилась работа.\n",
    "\n",
    "Вторым шагом проведена предобработка на которой выявилось, что данные довольно чистые, пропусков не было обнаружено, а дубликаты были найдены и удалены.\n",
    "\n",
    "Третьим шагом стал исследовательский анализ, после которого были сделаны такие выводы:\n",
    "\n",
    "- Из восьми представленных городов в таблице, лидирующее место по количеству пользователей занимает Пятигорск. Москва имеет меньшее из всей выборки число пользоваетелей.\n",
    "- По гистограмме видим, что пользователей без подписки больше. С подпиской(45.6%) 699, без(54.4%) - 835 пользователей.\n",
    "- Возраст, как мы видим распределен нормально, сервис имеет популярность больше всего у 25 летних пользователей , медиана не сильно отличается от среднего.\n",
    "- Среднее расстояние предолеваемое пользователем состовляет примерно 3км. Ну еще есть небольшой всплеск около 500-600 метров(не могу предположить с чем он связан), возможно эти люди преодолевали такое маленькое расстояние потому что только учились ездить на электрических самокатах.\n",
    "- Средняя продожительность поездок составляет примерно чуть больше 17 минут.\n",
    "\n",
    "Четвертым шагом я обьеденила все данные в одну таблицу и разделила данные на две категории(пользователи с подпиской и без). После построения гистограмам выяснилось, что среднее значение дистанции и продолжительности поездок у пользователей с подпиской и без, мало различаются(~70м и ~1мин).\n",
    "\n",
    "Пятый шаг - были осуществлены следующие расчеты и построена следующая таблица:\n",
    "\n",
    "- Посчитано суммарное расстояние, количество поездок и суммарное время для каждого пользователя за каждый месяц.\n",
    "- Посчитана помесячная выручка, которую принёс каждый пользователь.\n",
    "- Сформирована сводная таблица(count_distance - количество поездок, sum_distance - суммарное расстояние за месяц, sum_duration - суммарная продолжительность поездки, revenue - выручка ежемесяная с каждого пользователя).\n",
    "\n",
    "Шестым шагом проверялись гипотезы, выяснилось следующее:\n",
    "\n",
    "- продолжительность поездок пользователей с подпиской больше, чем у пользователей без подписки.\n",
    "- средняя дистанция пользователя с подпиской меньше или равна 3130 м\n",
    "- помесячная выручка от пользователя с подпиской больше, чем у пользователя без подписки."
   ]
  }
 ],
 "metadata": {
  "ExecuteTimeLog": [
   {
    "duration": 1178,
    "start_time": "2024-04-21T09:23:38.956Z"
   },
   {
    "duration": 115,
    "start_time": "2024-04-21T09:26:53.564Z"
   },
   {
    "duration": 230,
    "start_time": "2024-04-21T09:29:36.899Z"
   },
   {
    "duration": 88,
    "start_time": "2024-04-21T09:31:13.025Z"
   },
   {
    "duration": 106,
    "start_time": "2024-04-21T09:33:14.323Z"
   },
   {
    "duration": 105,
    "start_time": "2024-04-21T09:36:12.809Z"
   },
   {
    "duration": 105,
    "start_time": "2024-04-21T09:36:44.962Z"
   },
   {
    "duration": 104,
    "start_time": "2024-04-21T09:37:08.498Z"
   },
   {
    "duration": 1268,
    "start_time": "2024-04-21T09:38:15.451Z"
   },
   {
    "duration": 715,
    "start_time": "2024-04-21T09:39:16.194Z"
   },
   {
    "duration": 1181,
    "start_time": "2024-04-21T09:40:00.682Z"
   },
   {
    "duration": 1168,
    "start_time": "2024-04-21T09:40:36.710Z"
   },
   {
    "duration": 1153,
    "start_time": "2024-04-21T09:41:05.723Z"
   },
   {
    "duration": 1029,
    "start_time": "2024-04-21T09:41:29.722Z"
   },
   {
    "duration": 1015,
    "start_time": "2024-04-21T09:42:01.823Z"
   },
   {
    "duration": 959,
    "start_time": "2024-04-21T09:46:03.194Z"
   },
   {
    "duration": 1052,
    "start_time": "2024-04-21T09:46:09.532Z"
   },
   {
    "duration": 896,
    "start_time": "2024-04-21T09:46:39.637Z"
   },
   {
    "duration": 7,
    "start_time": "2024-04-21T09:52:46.476Z"
   },
   {
    "duration": 12,
    "start_time": "2024-04-21T09:52:58.330Z"
   },
   {
    "duration": 1020,
    "start_time": "2024-04-21T09:55:23.155Z"
   },
   {
    "duration": 925,
    "start_time": "2024-04-21T09:55:25.724Z"
   },
   {
    "duration": 7,
    "start_time": "2024-04-21T09:58:36.756Z"
   },
   {
    "duration": 18,
    "start_time": "2024-04-21T09:58:47.068Z"
   },
   {
    "duration": 15,
    "start_time": "2024-04-21T10:02:04.021Z"
   },
   {
    "duration": 100,
    "start_time": "2024-04-21T10:04:52.533Z"
   },
   {
    "duration": 89,
    "start_time": "2024-04-21T10:05:26.629Z"
   },
   {
    "duration": 29,
    "start_time": "2024-04-21T10:10:09.420Z"
   },
   {
    "duration": 22,
    "start_time": "2024-04-21T10:11:06.830Z"
   },
   {
    "duration": 35,
    "start_time": "2024-04-21T10:11:20.813Z"
   },
   {
    "duration": 7,
    "start_time": "2024-04-21T10:22:09.622Z"
   },
   {
    "duration": 4,
    "start_time": "2024-04-21T10:22:17.139Z"
   },
   {
    "duration": 10,
    "start_time": "2024-04-21T10:22:45.735Z"
   },
   {
    "duration": 53,
    "start_time": "2024-04-21T10:22:49.654Z"
   },
   {
    "duration": 8,
    "start_time": "2024-04-21T10:22:54.157Z"
   },
   {
    "duration": 8,
    "start_time": "2024-04-21T10:24:01.013Z"
   },
   {
    "duration": 1019,
    "start_time": "2024-04-21T10:25:59.562Z"
   },
   {
    "duration": 952,
    "start_time": "2024-04-21T10:26:00.918Z"
   },
   {
    "duration": 20,
    "start_time": "2024-04-21T10:26:03.988Z"
   },
   {
    "duration": 8,
    "start_time": "2024-04-21T10:26:06.661Z"
   },
   {
    "duration": 27,
    "start_time": "2024-04-21T10:28:59.536Z"
   },
   {
    "duration": 26,
    "start_time": "2024-04-21T10:29:54.536Z"
   },
   {
    "duration": 26,
    "start_time": "2024-04-21T10:30:18.692Z"
   },
   {
    "duration": 85,
    "start_time": "2024-04-21T10:30:46.164Z"
   },
   {
    "duration": 2,
    "start_time": "2024-04-21T10:32:08.095Z"
   },
   {
    "duration": 1052,
    "start_time": "2024-04-21T10:32:48.227Z"
   },
   {
    "duration": 925,
    "start_time": "2024-04-21T10:32:50.060Z"
   },
   {
    "duration": 19,
    "start_time": "2024-04-21T10:32:53.011Z"
   },
   {
    "duration": 9,
    "start_time": "2024-04-21T10:32:55.071Z"
   },
   {
    "duration": 190,
    "start_time": "2024-04-21T10:35:22.907Z"
   },
   {
    "duration": 119,
    "start_time": "2024-04-21T10:35:46.043Z"
   },
   {
    "duration": 140,
    "start_time": "2024-04-21T10:37:51.067Z"
   },
   {
    "duration": 203,
    "start_time": "2024-04-21T10:37:56.212Z"
   },
   {
    "duration": 128,
    "start_time": "2024-04-21T10:38:09.019Z"
   },
   {
    "duration": 130,
    "start_time": "2024-04-21T10:38:17.818Z"
   },
   {
    "duration": 123,
    "start_time": "2024-04-21T10:38:22.723Z"
   },
   {
    "duration": 131,
    "start_time": "2024-04-21T10:38:28.083Z"
   },
   {
    "duration": 207,
    "start_time": "2024-04-21T10:39:20.838Z"
   },
   {
    "duration": 131,
    "start_time": "2024-04-21T10:39:33.844Z"
   },
   {
    "duration": 129,
    "start_time": "2024-04-21T10:39:56.109Z"
   },
   {
    "duration": 128,
    "start_time": "2024-04-21T10:40:13.963Z"
   },
   {
    "duration": 121,
    "start_time": "2024-04-21T10:41:26.955Z"
   },
   {
    "duration": 125,
    "start_time": "2024-04-21T10:41:35.891Z"
   },
   {
    "duration": 208,
    "start_time": "2024-04-21T10:42:13.923Z"
   },
   {
    "duration": 124,
    "start_time": "2024-04-21T10:43:47.771Z"
   },
   {
    "duration": 131,
    "start_time": "2024-04-21T10:49:59.314Z"
   },
   {
    "duration": 125,
    "start_time": "2024-04-21T10:50:08.010Z"
   },
   {
    "duration": 193,
    "start_time": "2024-04-21T10:50:12.546Z"
   },
   {
    "duration": 10,
    "start_time": "2024-04-21T10:53:48.139Z"
   },
   {
    "duration": 134,
    "start_time": "2024-04-21T10:53:58.419Z"
   },
   {
    "duration": 134,
    "start_time": "2024-04-21T10:55:31.780Z"
   },
   {
    "duration": 136,
    "start_time": "2024-04-21T10:55:48.068Z"
   },
   {
    "duration": 123,
    "start_time": "2024-04-21T10:55:52.803Z"
   },
   {
    "duration": 48,
    "start_time": "2024-04-21T10:56:46.946Z"
   },
   {
    "duration": 108,
    "start_time": "2024-04-21T10:56:53.683Z"
   },
   {
    "duration": 108,
    "start_time": "2024-04-21T10:57:02.458Z"
   },
   {
    "duration": 192,
    "start_time": "2024-04-21T10:57:09.603Z"
   },
   {
    "duration": 122,
    "start_time": "2024-04-21T10:57:26.498Z"
   },
   {
    "duration": 120,
    "start_time": "2024-04-21T10:58:26.330Z"
   },
   {
    "duration": 134,
    "start_time": "2024-04-21T10:59:07.299Z"
   },
   {
    "duration": 126,
    "start_time": "2024-04-21T10:59:20.411Z"
   },
   {
    "duration": 3,
    "start_time": "2024-04-21T10:59:30.267Z"
   },
   {
    "duration": 909,
    "start_time": "2024-04-21T10:59:31.499Z"
   },
   {
    "duration": 1015,
    "start_time": "2024-04-21T10:59:39.363Z"
   },
   {
    "duration": 892,
    "start_time": "2024-04-21T10:59:41.245Z"
   },
   {
    "duration": 20,
    "start_time": "2024-04-21T10:59:44.420Z"
   },
   {
    "duration": 8,
    "start_time": "2024-04-21T10:59:46.652Z"
   },
   {
    "duration": 87,
    "start_time": "2024-04-21T10:59:49.123Z"
   },
   {
    "duration": 127,
    "start_time": "2024-04-21T11:00:19.576Z"
   },
   {
    "duration": 146,
    "start_time": "2024-04-21T11:01:51.437Z"
   },
   {
    "duration": 150,
    "start_time": "2024-04-21T11:02:21.397Z"
   },
   {
    "duration": 162,
    "start_time": "2024-04-21T11:02:28.405Z"
   },
   {
    "duration": 229,
    "start_time": "2024-04-21T11:02:56.438Z"
   },
   {
    "duration": 12,
    "start_time": "2024-04-21T11:03:17.473Z"
   },
   {
    "duration": 132,
    "start_time": "2024-04-21T11:03:25.101Z"
   },
   {
    "duration": 248,
    "start_time": "2024-04-21T11:06:50.886Z"
   },
   {
    "duration": 237,
    "start_time": "2024-04-21T11:07:12.752Z"
   },
   {
    "duration": 233,
    "start_time": "2024-04-21T11:07:29.286Z"
   },
   {
    "duration": 274,
    "start_time": "2024-04-21T11:07:37.029Z"
   },
   {
    "duration": 327,
    "start_time": "2024-04-21T11:07:47.549Z"
   },
   {
    "duration": 244,
    "start_time": "2024-04-21T11:07:54.901Z"
   },
   {
    "duration": 248,
    "start_time": "2024-04-21T11:08:25.605Z"
   },
   {
    "duration": 247,
    "start_time": "2024-04-21T11:08:47.998Z"
   },
   {
    "duration": 258,
    "start_time": "2024-04-21T11:10:44.887Z"
   },
   {
    "duration": 265,
    "start_time": "2024-04-21T11:10:59.623Z"
   },
   {
    "duration": 338,
    "start_time": "2024-04-21T11:11:25.248Z"
   },
   {
    "duration": 241,
    "start_time": "2024-04-21T11:11:34.374Z"
   },
   {
    "duration": 246,
    "start_time": "2024-04-21T11:11:58.349Z"
   },
   {
    "duration": 244,
    "start_time": "2024-04-21T11:12:02.974Z"
   },
   {
    "duration": 238,
    "start_time": "2024-04-21T11:12:12.150Z"
   },
   {
    "duration": 337,
    "start_time": "2024-04-21T11:12:17.774Z"
   },
   {
    "duration": 242,
    "start_time": "2024-04-21T11:12:30.791Z"
   },
   {
    "duration": 255,
    "start_time": "2024-04-21T11:12:45.822Z"
   },
   {
    "duration": 276,
    "start_time": "2024-04-21T11:16:45.081Z"
   },
   {
    "duration": 264,
    "start_time": "2024-04-21T11:17:16.911Z"
   },
   {
    "duration": 262,
    "start_time": "2024-04-21T11:17:38.431Z"
   },
   {
    "duration": 360,
    "start_time": "2024-04-21T11:18:36.943Z"
   },
   {
    "duration": 374,
    "start_time": "2024-04-21T11:20:40.528Z"
   },
   {
    "duration": 428,
    "start_time": "2024-04-21T11:20:57.527Z"
   },
   {
    "duration": 456,
    "start_time": "2024-04-21T11:21:22.007Z"
   },
   {
    "duration": 510,
    "start_time": "2024-04-21T11:21:30.367Z"
   },
   {
    "duration": 390,
    "start_time": "2024-04-21T11:22:16.263Z"
   },
   {
    "duration": 454,
    "start_time": "2024-04-21T11:22:27.432Z"
   },
   {
    "duration": 507,
    "start_time": "2024-04-21T11:23:22.967Z"
   },
   {
    "duration": 426,
    "start_time": "2024-04-21T11:23:33.456Z"
   },
   {
    "duration": 422,
    "start_time": "2024-04-21T11:23:41.575Z"
   },
   {
    "duration": 53,
    "start_time": "2024-04-21T11:23:47.919Z"
   },
   {
    "duration": 414,
    "start_time": "2024-04-21T11:23:52.872Z"
   },
   {
    "duration": 506,
    "start_time": "2024-04-21T11:24:00.172Z"
   },
   {
    "duration": 428,
    "start_time": "2024-04-21T11:24:13.363Z"
   },
   {
    "duration": 432,
    "start_time": "2024-04-21T11:24:50.867Z"
   },
   {
    "duration": 423,
    "start_time": "2024-04-21T11:25:04.395Z"
   },
   {
    "duration": 691,
    "start_time": "2024-04-21T11:31:11.938Z"
   },
   {
    "duration": 637,
    "start_time": "2024-04-21T11:32:28.079Z"
   },
   {
    "duration": 840,
    "start_time": "2024-04-21T11:34:51.030Z"
   },
   {
    "duration": 769,
    "start_time": "2024-04-21T11:47:52.208Z"
   },
   {
    "duration": 20,
    "start_time": "2024-04-21T12:56:26.423Z"
   },
   {
    "duration": 20,
    "start_time": "2024-04-21T12:58:33.976Z"
   },
   {
    "duration": 1062,
    "start_time": "2024-04-21T12:59:04.822Z"
   },
   {
    "duration": 965,
    "start_time": "2024-04-21T12:59:07.086Z"
   },
   {
    "duration": 20,
    "start_time": "2024-04-21T12:59:11.592Z"
   },
   {
    "duration": 8,
    "start_time": "2024-04-21T12:59:16.126Z"
   },
   {
    "duration": 882,
    "start_time": "2024-04-21T12:59:18.143Z"
   },
   {
    "duration": 19,
    "start_time": "2024-04-21T12:59:35.902Z"
   },
   {
    "duration": 19,
    "start_time": "2024-04-21T13:00:37.582Z"
   },
   {
    "duration": 22,
    "start_time": "2024-04-21T13:06:39.186Z"
   },
   {
    "duration": 337,
    "start_time": "2024-04-21T13:15:34.344Z"
   },
   {
    "duration": 436,
    "start_time": "2024-04-21T13:21:03.540Z"
   },
   {
    "duration": 35,
    "start_time": "2024-04-21T13:40:07.128Z"
   },
   {
    "duration": 19,
    "start_time": "2024-04-21T14:07:49.831Z"
   },
   {
    "duration": 107,
    "start_time": "2024-04-21T14:13:07.086Z"
   },
   {
    "duration": 42,
    "start_time": "2024-04-21T14:13:18.712Z"
   },
   {
    "duration": 966,
    "start_time": "2024-04-21T14:16:14.780Z"
   },
   {
    "duration": 42,
    "start_time": "2024-04-21T14:16:36.125Z"
   },
   {
    "duration": 237,
    "start_time": "2024-04-21T14:20:36.501Z"
   },
   {
    "duration": 43,
    "start_time": "2024-04-21T14:20:48.685Z"
   },
   {
    "duration": 861,
    "start_time": "2024-04-21T14:21:50.844Z"
   },
   {
    "duration": 1794,
    "start_time": "2024-04-21T14:22:01.301Z"
   },
   {
    "duration": 1196,
    "start_time": "2024-04-21T14:22:08.724Z"
   },
   {
    "duration": 40,
    "start_time": "2024-04-21T14:23:25.343Z"
   },
   {
    "duration": 45,
    "start_time": "2024-04-21T14:23:41.390Z"
   },
   {
    "duration": 999,
    "start_time": "2024-04-21T14:24:09.479Z"
   },
   {
    "duration": 928,
    "start_time": "2024-04-21T14:24:11.761Z"
   },
   {
    "duration": 20,
    "start_time": "2024-04-21T14:24:14.175Z"
   },
   {
    "duration": 8,
    "start_time": "2024-04-21T14:24:17.143Z"
   },
   {
    "duration": 885,
    "start_time": "2024-04-21T14:24:19.424Z"
   },
   {
    "duration": 27,
    "start_time": "2024-04-21T14:24:22.504Z"
   },
   {
    "duration": 40,
    "start_time": "2024-04-21T14:24:26.216Z"
   },
   {
    "duration": 401,
    "start_time": "2024-04-21T14:24:29.720Z"
   },
   {
    "duration": 43,
    "start_time": "2024-04-21T14:24:43.569Z"
   },
   {
    "duration": 41,
    "start_time": "2024-04-21T14:24:56.609Z"
   },
   {
    "duration": 343,
    "start_time": "2024-04-21T14:25:58.562Z"
   },
   {
    "duration": 45,
    "start_time": "2024-04-21T14:26:25.593Z"
   },
   {
    "duration": 814,
    "start_time": "2024-04-21T14:27:32.219Z"
   },
   {
    "duration": 13,
    "start_time": "2024-04-21T14:28:08.293Z"
   },
   {
    "duration": 1141,
    "start_time": "2024-04-21T14:28:49.328Z"
   },
   {
    "duration": 914,
    "start_time": "2024-04-21T14:28:51.100Z"
   },
   {
    "duration": 20,
    "start_time": "2024-04-21T14:28:53.276Z"
   },
   {
    "duration": 8,
    "start_time": "2024-04-21T14:28:55.500Z"
   },
   {
    "duration": 914,
    "start_time": "2024-04-21T14:28:57.141Z"
   },
   {
    "duration": 26,
    "start_time": "2024-04-21T14:29:03.837Z"
   },
   {
    "duration": 35,
    "start_time": "2024-04-21T14:29:07.436Z"
   },
   {
    "duration": 400,
    "start_time": "2024-04-21T14:29:09.613Z"
   },
   {
    "duration": 44,
    "start_time": "2024-04-21T14:29:13.445Z"
   },
   {
    "duration": 43,
    "start_time": "2024-04-21T14:45:27.997Z"
   },
   {
    "duration": 4,
    "start_time": "2024-04-21T14:48:27.406Z"
   },
   {
    "duration": 12,
    "start_time": "2024-04-21T14:48:36.301Z"
   },
   {
    "duration": 45,
    "start_time": "2024-04-21T14:48:51.414Z"
   },
   {
    "duration": 58,
    "start_time": "2024-04-21T14:56:23.759Z"
   },
   {
    "duration": 98,
    "start_time": "2024-04-21T14:57:29.551Z"
   },
   {
    "duration": 29,
    "start_time": "2024-04-21T14:57:55.127Z"
   },
   {
    "duration": 65,
    "start_time": "2024-04-21T15:03:37.138Z"
   },
   {
    "duration": 17,
    "start_time": "2024-04-21T15:03:55.347Z"
   },
   {
    "duration": 30,
    "start_time": "2024-04-21T15:04:38.371Z"
   },
   {
    "duration": 37,
    "start_time": "2024-04-21T15:06:49.979Z"
   },
   {
    "duration": 52,
    "start_time": "2024-04-21T15:08:06.426Z"
   },
   {
    "duration": 49,
    "start_time": "2024-04-21T15:08:37.603Z"
   },
   {
    "duration": 26,
    "start_time": "2024-04-21T15:09:06.389Z"
   },
   {
    "duration": 6,
    "start_time": "2024-04-21T15:32:23.361Z"
   },
   {
    "duration": 5,
    "start_time": "2024-04-21T15:33:09.329Z"
   },
   {
    "duration": 5,
    "start_time": "2024-04-21T15:51:59.264Z"
   },
   {
    "duration": 5,
    "start_time": "2024-04-21T15:53:17.489Z"
   },
   {
    "duration": 25,
    "start_time": "2024-04-21T16:08:09.034Z"
   },
   {
    "duration": 38,
    "start_time": "2024-04-21T16:08:13.416Z"
   },
   {
    "duration": 65,
    "start_time": "2024-04-21T16:14:02.138Z"
   },
   {
    "duration": 10,
    "start_time": "2024-04-21T16:14:34.946Z"
   },
   {
    "duration": 11,
    "start_time": "2024-04-21T16:15:07.096Z"
   },
   {
    "duration": 9,
    "start_time": "2024-04-21T16:15:27.384Z"
   },
   {
    "duration": 969,
    "start_time": "2024-04-21T16:17:35.097Z"
   },
   {
    "duration": 932,
    "start_time": "2024-04-21T16:17:38.874Z"
   },
   {
    "duration": 20,
    "start_time": "2024-04-21T16:17:43.905Z"
   },
   {
    "duration": 8,
    "start_time": "2024-04-21T16:17:46.825Z"
   },
   {
    "duration": 902,
    "start_time": "2024-04-21T16:17:49.469Z"
   },
   {
    "duration": 28,
    "start_time": "2024-04-21T16:17:54.153Z"
   },
   {
    "duration": 94,
    "start_time": "2024-04-21T16:17:57.088Z"
   },
   {
    "duration": 29,
    "start_time": "2024-04-21T16:18:15.634Z"
   },
   {
    "duration": 10,
    "start_time": "2024-04-21T16:18:20.193Z"
   },
   {
    "duration": 34,
    "start_time": "2024-04-21T16:18:40.619Z"
   },
   {
    "duration": 411,
    "start_time": "2024-04-21T16:18:43.785Z"
   },
   {
    "duration": 44,
    "start_time": "2024-04-21T16:19:00.474Z"
   },
   {
    "duration": 39,
    "start_time": "2024-04-21T16:19:04.043Z"
   },
   {
    "duration": 6,
    "start_time": "2024-04-21T16:19:12.775Z"
   },
   {
    "duration": 5,
    "start_time": "2024-04-21T16:19:14.873Z"
   },
   {
    "duration": 9,
    "start_time": "2024-04-21T16:19:33.969Z"
   },
   {
    "duration": 9,
    "start_time": "2024-04-21T16:25:22.225Z"
   },
   {
    "duration": 8,
    "start_time": "2024-04-21T16:25:34.459Z"
   },
   {
    "duration": 9,
    "start_time": "2024-04-21T16:26:05.105Z"
   },
   {
    "duration": 32,
    "start_time": "2024-04-21T16:30:08.698Z"
   },
   {
    "duration": 35,
    "start_time": "2024-04-21T16:31:02.518Z"
   },
   {
    "duration": 31,
    "start_time": "2024-04-21T16:31:23.179Z"
   },
   {
    "duration": 48,
    "start_time": "2024-04-21T16:32:02.606Z"
   },
   {
    "duration": 18,
    "start_time": "2024-04-21T16:32:16.753Z"
   },
   {
    "duration": 4,
    "start_time": "2024-04-21T16:35:24.290Z"
   },
   {
    "duration": 19,
    "start_time": "2024-04-21T16:35:29.282Z"
   },
   {
    "duration": 18,
    "start_time": "2024-04-21T16:54:21.089Z"
   },
   {
    "duration": 19,
    "start_time": "2024-04-21T17:03:30.178Z"
   },
   {
    "duration": 1164,
    "start_time": "2024-04-21T18:41:56.002Z"
   },
   {
    "duration": 1088,
    "start_time": "2024-04-21T18:41:57.168Z"
   },
   {
    "duration": 30,
    "start_time": "2024-04-21T18:41:58.258Z"
   },
   {
    "duration": 12,
    "start_time": "2024-04-21T18:41:58.301Z"
   },
   {
    "duration": 1013,
    "start_time": "2024-04-21T18:41:58.315Z"
   },
   {
    "duration": 30,
    "start_time": "2024-04-21T18:41:59.330Z"
   },
   {
    "duration": 53,
    "start_time": "2024-04-21T18:41:59.362Z"
   },
   {
    "duration": 517,
    "start_time": "2024-04-21T18:41:59.417Z"
   },
   {
    "duration": 66,
    "start_time": "2024-04-21T18:41:59.936Z"
   },
   {
    "duration": 47,
    "start_time": "2024-04-21T18:42:00.004Z"
   },
   {
    "duration": 15,
    "start_time": "2024-04-21T18:42:00.053Z"
   },
   {
    "duration": 19,
    "start_time": "2024-04-21T18:42:00.081Z"
   },
   {
    "duration": 64,
    "start_time": "2024-04-21T18:42:00.102Z"
   },
   {
    "duration": 1113,
    "start_time": "2024-04-21T18:50:52.141Z"
   },
   {
    "duration": 1015,
    "start_time": "2024-04-21T18:50:53.256Z"
   },
   {
    "duration": 27,
    "start_time": "2024-04-21T18:50:54.273Z"
   },
   {
    "duration": 8,
    "start_time": "2024-04-21T18:50:54.302Z"
   },
   {
    "duration": 989,
    "start_time": "2024-04-21T18:50:54.312Z"
   },
   {
    "duration": 30,
    "start_time": "2024-04-21T18:50:55.302Z"
   },
   {
    "duration": 60,
    "start_time": "2024-04-21T18:50:55.334Z"
   },
   {
    "duration": 506,
    "start_time": "2024-04-21T18:50:55.396Z"
   },
   {
    "duration": 58,
    "start_time": "2024-04-21T18:50:55.904Z"
   },
   {
    "duration": 48,
    "start_time": "2024-04-21T18:50:55.981Z"
   },
   {
    "duration": 5,
    "start_time": "2024-04-21T18:50:56.031Z"
   },
   {
    "duration": 23,
    "start_time": "2024-04-21T18:50:56.038Z"
   },
   {
    "duration": 31,
    "start_time": "2024-04-21T18:50:56.063Z"
   },
   {
    "duration": 9,
    "start_time": "2024-04-21T19:03:23.573Z"
   },
   {
    "duration": 38,
    "start_time": "2024-04-21T19:11:13.138Z"
   },
   {
    "duration": 31,
    "start_time": "2024-04-21T19:11:25.745Z"
   },
   {
    "duration": 1157,
    "start_time": "2024-04-21T19:11:33.321Z"
   },
   {
    "duration": 28,
    "start_time": "2024-04-21T19:12:43.944Z"
   },
   {
    "duration": 31,
    "start_time": "2024-04-21T19:12:50.913Z"
   },
   {
    "duration": 30,
    "start_time": "2024-04-21T19:13:07.985Z"
   },
   {
    "duration": 1076,
    "start_time": "2024-04-21T19:19:46.167Z"
   },
   {
    "duration": 1017,
    "start_time": "2024-04-21T19:19:47.245Z"
   },
   {
    "duration": 33,
    "start_time": "2024-04-21T19:19:48.263Z"
   },
   {
    "duration": 9,
    "start_time": "2024-04-21T19:19:48.298Z"
   },
   {
    "duration": 987,
    "start_time": "2024-04-21T19:19:48.309Z"
   },
   {
    "duration": 27,
    "start_time": "2024-04-21T19:19:49.298Z"
   },
   {
    "duration": 57,
    "start_time": "2024-04-21T19:19:49.326Z"
   },
   {
    "duration": 442,
    "start_time": "2024-04-21T19:19:49.385Z"
   },
   {
    "duration": 55,
    "start_time": "2024-04-21T19:19:49.828Z"
   },
   {
    "duration": 42,
    "start_time": "2024-04-21T19:19:49.886Z"
   },
   {
    "duration": 6,
    "start_time": "2024-04-21T19:19:49.929Z"
   },
   {
    "duration": 20,
    "start_time": "2024-04-21T19:19:49.936Z"
   },
   {
    "duration": 33,
    "start_time": "2024-04-21T19:19:49.957Z"
   },
   {
    "duration": 1345,
    "start_time": "2024-04-22T11:50:27.029Z"
   },
   {
    "duration": 1356,
    "start_time": "2024-04-22T11:50:28.376Z"
   },
   {
    "duration": 24,
    "start_time": "2024-04-22T11:50:29.733Z"
   },
   {
    "duration": 23,
    "start_time": "2024-04-22T11:50:29.758Z"
   },
   {
    "duration": 1046,
    "start_time": "2024-04-22T11:50:29.783Z"
   },
   {
    "duration": 43,
    "start_time": "2024-04-22T11:50:30.830Z"
   },
   {
    "duration": 234,
    "start_time": "2024-04-22T11:50:30.875Z"
   },
   {
    "duration": 641,
    "start_time": "2024-04-22T11:50:31.110Z"
   },
   {
    "duration": 61,
    "start_time": "2024-04-22T11:50:31.752Z"
   },
   {
    "duration": 63,
    "start_time": "2024-04-22T11:50:31.815Z"
   },
   {
    "duration": 6,
    "start_time": "2024-04-22T11:50:31.880Z"
   },
   {
    "duration": 84,
    "start_time": "2024-04-22T11:50:31.887Z"
   },
   {
    "duration": 52,
    "start_time": "2024-04-22T11:50:31.974Z"
   },
   {
    "duration": 3,
    "start_time": "2024-04-22T11:54:11.549Z"
   },
   {
    "duration": 1062,
    "start_time": "2024-04-22T11:54:14.686Z"
   },
   {
    "duration": 23,
    "start_time": "2024-04-22T11:54:22.057Z"
   },
   {
    "duration": 11,
    "start_time": "2024-04-22T11:54:25.649Z"
   },
   {
    "duration": 285,
    "start_time": "2024-04-22T11:54:31.849Z"
   },
   {
    "duration": 140,
    "start_time": "2024-04-22T11:54:35.310Z"
   },
   {
    "duration": 218,
    "start_time": "2024-04-22T11:54:37.933Z"
   },
   {
    "duration": 214,
    "start_time": "2024-04-22T11:54:41.085Z"
   },
   {
    "duration": 207,
    "start_time": "2024-04-22T11:54:43.177Z"
   },
   {
    "duration": 258,
    "start_time": "2024-04-22T12:11:45.254Z"
   },
   {
    "duration": 210,
    "start_time": "2024-04-22T12:12:05.074Z"
   },
   {
    "duration": 142,
    "start_time": "2024-04-22T12:18:11.697Z"
   },
   {
    "duration": 146,
    "start_time": "2024-04-22T12:20:34.321Z"
   },
   {
    "duration": 147,
    "start_time": "2024-04-22T12:21:30.840Z"
   },
   {
    "duration": 143,
    "start_time": "2024-04-22T12:24:25.720Z"
   },
   {
    "duration": 251,
    "start_time": "2024-04-22T12:24:46.585Z"
   },
   {
    "duration": 1211,
    "start_time": "2024-04-22T12:28:23.774Z"
   },
   {
    "duration": 1072,
    "start_time": "2024-04-22T12:28:24.988Z"
   },
   {
    "duration": 29,
    "start_time": "2024-04-22T12:28:26.062Z"
   },
   {
    "duration": 10,
    "start_time": "2024-04-22T12:28:26.094Z"
   },
   {
    "duration": 213,
    "start_time": "2024-04-22T12:28:26.105Z"
   },
   {
    "duration": 159,
    "start_time": "2024-04-22T12:28:26.320Z"
   },
   {
    "duration": 209,
    "start_time": "2024-04-22T12:28:26.481Z"
   },
   {
    "duration": 218,
    "start_time": "2024-04-22T12:28:26.691Z"
   },
   {
    "duration": 317,
    "start_time": "2024-04-22T12:28:26.910Z"
   },
   {
    "duration": 30,
    "start_time": "2024-04-22T12:28:27.230Z"
   },
   {
    "duration": 40,
    "start_time": "2024-04-22T12:28:27.273Z"
   },
   {
    "duration": 506,
    "start_time": "2024-04-22T12:28:27.316Z"
   },
   {
    "duration": 63,
    "start_time": "2024-04-22T12:28:27.823Z"
   },
   {
    "duration": 47,
    "start_time": "2024-04-22T12:28:27.888Z"
   },
   {
    "duration": 6,
    "start_time": "2024-04-22T12:28:27.937Z"
   },
   {
    "duration": 32,
    "start_time": "2024-04-22T12:28:27.944Z"
   },
   {
    "duration": 25,
    "start_time": "2024-04-22T12:28:27.977Z"
   },
   {
    "duration": 7,
    "start_time": "2024-04-22T12:35:38.848Z"
   },
   {
    "duration": 5,
    "start_time": "2024-04-22T12:39:52.807Z"
   },
   {
    "duration": 24,
    "start_time": "2024-04-22T12:50:12.843Z"
   },
   {
    "duration": 57,
    "start_time": "2024-04-22T12:55:12.409Z"
   },
   {
    "duration": 48,
    "start_time": "2024-04-22T12:55:17.915Z"
   },
   {
    "duration": 24,
    "start_time": "2024-04-22T12:55:28.044Z"
   },
   {
    "duration": 47,
    "start_time": "2024-04-22T12:56:28.819Z"
   },
   {
    "duration": 21,
    "start_time": "2024-04-22T12:56:38.491Z"
   },
   {
    "duration": 67,
    "start_time": "2024-04-22T13:00:22.125Z"
   },
   {
    "duration": 148,
    "start_time": "2024-04-22T13:02:57.754Z"
   },
   {
    "duration": 51,
    "start_time": "2024-04-22T13:03:16.371Z"
   },
   {
    "duration": 54,
    "start_time": "2024-04-22T13:03:31.691Z"
   },
   {
    "duration": 62,
    "start_time": "2024-04-22T13:03:46.426Z"
   },
   {
    "duration": 23,
    "start_time": "2024-04-22T13:08:50.482Z"
   },
   {
    "duration": 23,
    "start_time": "2024-04-22T13:09:02.162Z"
   },
   {
    "duration": 249,
    "start_time": "2024-04-22T13:09:12.452Z"
   },
   {
    "duration": 254,
    "start_time": "2024-04-22T13:10:27.465Z"
   },
   {
    "duration": 262,
    "start_time": "2024-04-22T13:10:52.081Z"
   },
   {
    "duration": 264,
    "start_time": "2024-04-22T13:11:42.161Z"
   },
   {
    "duration": 275,
    "start_time": "2024-04-22T13:12:26.930Z"
   },
   {
    "duration": 269,
    "start_time": "2024-04-22T13:13:20.905Z"
   },
   {
    "duration": 20,
    "start_time": "2024-04-22T13:13:32.001Z"
   },
   {
    "duration": 21,
    "start_time": "2024-04-22T13:16:31.658Z"
   },
   {
    "duration": 1169,
    "start_time": "2024-04-22T13:18:56.835Z"
   },
   {
    "duration": 1099,
    "start_time": "2024-04-22T13:18:58.006Z"
   },
   {
    "duration": 24,
    "start_time": "2024-04-22T13:18:59.106Z"
   },
   {
    "duration": 8,
    "start_time": "2024-04-22T13:18:59.132Z"
   },
   {
    "duration": 206,
    "start_time": "2024-04-22T13:18:59.142Z"
   },
   {
    "duration": 159,
    "start_time": "2024-04-22T13:18:59.349Z"
   },
   {
    "duration": 227,
    "start_time": "2024-04-22T13:18:59.510Z"
   },
   {
    "duration": 234,
    "start_time": "2024-04-22T13:18:59.739Z"
   },
   {
    "duration": 299,
    "start_time": "2024-04-22T13:18:59.974Z"
   },
   {
    "duration": 31,
    "start_time": "2024-04-22T13:19:00.275Z"
   },
   {
    "duration": 85,
    "start_time": "2024-04-22T13:19:00.307Z"
   },
   {
    "duration": 666,
    "start_time": "2024-04-22T13:19:00.394Z"
   },
   {
    "duration": 88,
    "start_time": "2024-04-22T13:19:01.062Z"
   },
   {
    "duration": 435,
    "start_time": "2024-04-22T13:19:01.152Z"
   },
   {
    "duration": 6,
    "start_time": "2024-04-22T13:19:01.588Z"
   },
   {
    "duration": 190,
    "start_time": "2024-04-22T13:19:01.596Z"
   },
   {
    "duration": 82,
    "start_time": "2024-04-22T13:19:01.787Z"
   },
   {
    "duration": 1320,
    "start_time": "2024-04-23T06:50:42.339Z"
   },
   {
    "duration": 1313,
    "start_time": "2024-04-23T06:50:43.661Z"
   },
   {
    "duration": 24,
    "start_time": "2024-04-23T06:50:44.976Z"
   },
   {
    "duration": 8,
    "start_time": "2024-04-23T06:50:45.002Z"
   },
   {
    "duration": 230,
    "start_time": "2024-04-23T06:50:45.011Z"
   },
   {
    "duration": 152,
    "start_time": "2024-04-23T06:50:45.242Z"
   },
   {
    "duration": 212,
    "start_time": "2024-04-23T06:50:45.396Z"
   },
   {
    "duration": 218,
    "start_time": "2024-04-23T06:50:45.611Z"
   },
   {
    "duration": 294,
    "start_time": "2024-04-23T06:50:45.830Z"
   },
   {
    "duration": 34,
    "start_time": "2024-04-23T06:50:46.127Z"
   },
   {
    "duration": 52,
    "start_time": "2024-04-23T06:50:46.163Z"
   },
   {
    "duration": 475,
    "start_time": "2024-04-23T06:50:46.216Z"
   },
   {
    "duration": 48,
    "start_time": "2024-04-23T06:50:46.693Z"
   },
   {
    "duration": 255,
    "start_time": "2024-04-23T06:50:46.742Z"
   },
   {
    "duration": 6,
    "start_time": "2024-04-23T06:50:46.999Z"
   },
   {
    "duration": 21,
    "start_time": "2024-04-23T06:50:47.007Z"
   },
   {
    "duration": 20,
    "start_time": "2024-04-23T06:50:47.030Z"
   },
   {
    "duration": 1138,
    "start_time": "2024-04-23T07:20:58.813Z"
   },
   {
    "duration": 1076,
    "start_time": "2024-04-23T07:20:59.953Z"
   },
   {
    "duration": 31,
    "start_time": "2024-04-23T07:21:01.031Z"
   },
   {
    "duration": 67,
    "start_time": "2024-04-23T07:21:01.064Z"
   },
   {
    "duration": 206,
    "start_time": "2024-04-23T07:21:01.134Z"
   },
   {
    "duration": 147,
    "start_time": "2024-04-23T07:21:01.341Z"
   },
   {
    "duration": 205,
    "start_time": "2024-04-23T07:21:01.490Z"
   },
   {
    "duration": 212,
    "start_time": "2024-04-23T07:21:01.697Z"
   },
   {
    "duration": 319,
    "start_time": "2024-04-23T07:21:01.910Z"
   },
   {
    "duration": 36,
    "start_time": "2024-04-23T07:21:02.230Z"
   },
   {
    "duration": 99,
    "start_time": "2024-04-23T07:21:02.280Z"
   },
   {
    "duration": 684,
    "start_time": "2024-04-23T07:21:02.381Z"
   },
   {
    "duration": 69,
    "start_time": "2024-04-23T07:21:03.067Z"
   },
   {
    "duration": 267,
    "start_time": "2024-04-23T07:21:03.140Z"
   },
   {
    "duration": 7,
    "start_time": "2024-04-23T07:21:03.409Z"
   },
   {
    "duration": 100,
    "start_time": "2024-04-23T07:21:03.418Z"
   },
   {
    "duration": 34,
    "start_time": "2024-04-23T07:21:03.520Z"
   },
   {
    "duration": 55,
    "start_time": "2024-04-25T12:18:30.134Z"
   },
   {
    "duration": 7,
    "start_time": "2024-04-25T12:19:03.677Z"
   },
   {
    "duration": 1400,
    "start_time": "2024-10-25T18:09:17.968Z"
   },
   {
    "duration": 1424,
    "start_time": "2024-10-25T18:09:19.370Z"
   },
   {
    "duration": 27,
    "start_time": "2024-10-25T18:09:20.796Z"
   },
   {
    "duration": 32,
    "start_time": "2024-10-25T18:09:20.826Z"
   },
   {
    "duration": 211,
    "start_time": "2024-10-25T18:09:20.860Z"
   },
   {
    "duration": 172,
    "start_time": "2024-10-25T18:09:21.073Z"
   },
   {
    "duration": 220,
    "start_time": "2024-10-25T18:09:21.253Z"
   },
   {
    "duration": 231,
    "start_time": "2024-10-25T18:09:21.475Z"
   },
   {
    "duration": 313,
    "start_time": "2024-10-25T18:09:21.707Z"
   },
   {
    "duration": 42,
    "start_time": "2024-10-25T18:09:22.022Z"
   },
   {
    "duration": 43,
    "start_time": "2024-10-25T18:09:22.066Z"
   },
   {
    "duration": 541,
    "start_time": "2024-10-25T18:09:22.111Z"
   },
   {
    "duration": 64,
    "start_time": "2024-10-25T18:09:22.654Z"
   },
   {
    "duration": 277,
    "start_time": "2024-10-25T18:09:22.720Z"
   },
   {
    "duration": 7,
    "start_time": "2024-10-25T18:09:22.999Z"
   },
   {
    "duration": 6,
    "start_time": "2024-10-25T18:09:23.008Z"
   },
   {
    "duration": 44,
    "start_time": "2024-10-25T18:09:23.016Z"
   }
  ],
  "kernelspec": {
   "display_name": "Python 3 (ipykernel)",
   "language": "python",
   "name": "python3"
  },
  "language_info": {
   "codemirror_mode": {
    "name": "ipython",
    "version": 3
   },
   "file_extension": ".py",
   "mimetype": "text/x-python",
   "name": "python",
   "nbconvert_exporter": "python",
   "pygments_lexer": "ipython3",
   "version": "3.9.5"
  },
  "toc": {
   "base_numbering": 1,
   "nav_menu": {},
   "number_sections": true,
   "sideBar": true,
   "skip_h1_title": true,
   "title_cell": "Table of Contents",
   "title_sidebar": "Contents",
   "toc_cell": false,
   "toc_position": {},
   "toc_section_display": true,
   "toc_window_display": false
  }
 },
 "nbformat": 4,
 "nbformat_minor": 5
}
